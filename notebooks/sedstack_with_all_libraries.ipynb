{
 "cells": [
  {
   "cell_type": "code",
   "execution_count": 1,
   "metadata": {
    "collapsed": false
   },
   "outputs": [
    {
     "name": "stderr",
     "output_type": "stream",
     "text": [
      "WARNING: AstropyDeprecationWarning: Config parameter 'default_cosmology' in section [astropy.cosmology.core] is deprecated. Use science state astropy.cosmology.core.default_cosmology instead. [astropy.utils.state]\n",
      "WARNING:astropy:AstropyDeprecationWarning: Config parameter 'default_cosmology' in section [astropy.cosmology.core] is deprecated. Use science state astropy.cosmology.core.default_cosmology instead.\n"
     ]
    }
   ],
   "source": [
    "import pdb\n",
    "import numpy as np\n",
    "import pandas as pd\n",
    "import os\n",
    "import math\n",
    "import matplotlib.pyplot as plt\n",
    "import pylab as plt\n",
    "from astropy.wcs import WCS\n",
    "from astropy.io import fits\n",
    "import readcol\n",
    "from utils import shift_twod\n",
    "from utils import dist_idl\n",
    "from utils import loggen\n",
    "from utils import gauss_kern\n",
    "from lmfit import Parameters, minimize, fit_report\n",
    "from sedstack import stack_libraries_in_redshift_slices\n",
    "from skymaps import Skymaps\n",
    "from skymaps import Field_catalogs\n",
    "\n",
    "%matplotlib inline  "
   ]
  },
  {
   "cell_type": "code",
   "execution_count": 2,
   "metadata": {
    "collapsed": true
   },
   "outputs": [],
   "source": [
    "popcolor=['blue','red','green','orange','black','grey','chocolate','darkviolet','pink',\n",
    "          'magenta','dodgerblue','lavender','blue','red','green','orange','black','grey',\n",
    "          'chocolate','darkviolet','pink','magenta','dodgerblue','lavender']"
   ]
  },
  {
   "cell_type": "code",
   "execution_count": 3,
   "metadata": {
    "collapsed": true
   },
   "outputs": [],
   "source": [
    "#Define Redshift Bins\n",
    "z_lo = np.array([0.0,0.5,1.0,1.5,2.0,2.5,3.0,3.5])\n",
    "z_hi = np.array([0.5,1.0,1.5,2.0,2.5,3.0,3.5,4.0])\n",
    "z_nodes = np.array([0.5,1.0,1.5,2.0,2.5,3.0,3.5,4.0])\n",
    "z_mid = (z_nodes[:-1] + z_nodes[1:])/2\n",
    "nz = len(z_nodes) - 1"
   ]
  },
  {
   "cell_type": "code",
   "execution_count": 4,
   "metadata": {
    "collapsed": true
   },
   "outputs": [],
   "source": [
    "#Define Stellar Mass Bins\n",
    "m_lo = np.array([8.5, 9.5,10.0,10.5,11.0])\n",
    "m_hi = np.array([9.5,10.0,10.5,11.0,13.0])\n",
    "m_nodes = np.array([8.5, 9.5,10.0,10.5,11.0,13.0])\n",
    "m_mid = (m_nodes[:-1] + m_nodes[1:])/2\n",
    "nm = len(m_nodes) - 1"
   ]
  },
  {
   "cell_type": "code",
   "execution_count": 5,
   "metadata": {
    "collapsed": true
   },
   "outputs": [],
   "source": [
    "#Decide which Maps to include\n",
    "wv0 = np.array([1,1,1,1,1,1,1,1,1]) # This includes all maps\n",
    "wv0 = np.array([0,1,1,1,1,0,1,0,0]) # This one only includes PACS and SPIRE\n",
    "wv0 = np.array([0,0,1,1,0,0,1,0,0]) # This one only includes PACS RED and SPIRE 250, 500\n",
    "indstack = np.where(wv0 == 1)"
   ]
  },
  {
   "cell_type": "code",
   "execution_count": 6,
   "metadata": {
    "collapsed": true
   },
   "outputs": [],
   "source": [
    "# Map Directories \n",
    "\n",
    "dir_spitzer_maps = '/Users/marco/Code/Python/Modules/simstack/data/cutouts/'\n",
    "dir_spire_maps = '/Users/marco/Code/Python/Modules/simstack/data/cutouts/'\n",
    "dir_pacs_maps = '/Users/marco/Code/Python/Modules/simstack/data/cutouts/'\n",
    "dir_scuba_maps = '/Users/marco/Code/Python/Modules/simstack/data/cutouts/'\n",
    "dir_aztec_maps = '/Users/marco/Code/Python/Modules/simstack/data/cutouts/'\n",
    "\n",
    "## Dictionary Names\n",
    "library_keys =['mips24'\n",
    "               ,'pacs_green'\n",
    "               ,'pacs_red'\n",
    "               ,'spire_PSW'\n",
    "               ,'spire_PMW'\n",
    "               ,'scuba_450'\n",
    "               ,'spire_PLW'\n",
    "               ,'scuba_850'\n",
    "               ,'aztec'\n",
    "              ]\n",
    "\n",
    "wavelength=[24.,100,160,250,350,450,500,850,1100]\n",
    "nwv = np.sum(wv0) \n",
    "fwhm =[6.32,7.4, 11.3,18.1, 25.2,7., 36.6,15.,18.]\n",
    "efwhm=[6.32,6.7, 11.2,17.6, 23.9,7.8, 35.2,14.5,18.] # want to the measured effective FWHM later\n",
    "color_correction=[1.25,23.58,23.82,1.018,0.9914,1.0,0.95615,1.0,1.0]\n",
    "beam_area = [1.55e-09,1.,1.,1.,1.,1.62e-09,1.,5.6e-09,1.] #sr\n",
    "\n",
    "pixsize_suffix = '5.0_arcsec_pixels'\n",
    "\n",
    "maps = [dir_spitzer_maps+'mips_24_GO3_sci_10.cutout.fits' \n",
    "        ,dir_pacs_maps+'pep_COSMOS_green_Map.DR1.sci.cutout.fits'\n",
    "        ,dir_pacs_maps+'pep_COSMOS_red_Map.DR1.sci.cutout.fits'\n",
    "        ,dir_spire_maps+'cosmos-uvista-hipe12_itermap_10_iterations_'+pixsize_suffix+'_PSW.signal.cutout.fits'\n",
    "        ,dir_spire_maps+'cosmos-uvista-hipe12_itermap_10_iterations_'+pixsize_suffix+'_PMW.signal.cutout.fits'\n",
    "        ,dir_scuba_maps+'map450_new_header.cutout.fits'\n",
    "        ,dir_spire_maps+'cosmos-uvista-hipe12_itermap_10_iterations_'+pixsize_suffix+'_PLW.signal.cutout.fits'\n",
    "        ,dir_scuba_maps+'map850_new_header.cutout.fits'\n",
    "        ,dir_aztec_maps+'cosmos_jcmt_kscott20100925_map.cutout.fits'\n",
    "       ]\n",
    "noises = [dir_spitzer_maps+'mips_24_GO3_unc_10.cutout.fits' \n",
    "        ,dir_pacs_maps+'pep_COSMOS_green_Map.DR1.err.cutout.fits'\n",
    "        ,dir_pacs_maps+'pep_COSMOS_red_Map.DR1.err.cutout.fits'\n",
    "        ,dir_spire_maps+'cosmos-uvista-hipe12_itermap_10_iterations_'+pixsize_suffix+'_PSW.noise.cutout.fits'\n",
    "        ,dir_spire_maps+'cosmos-uvista-hipe12_itermap_10_iterations_'+pixsize_suffix+'_PMW.noise.cutout.fits'\n",
    "        ,dir_scuba_maps+'map450_new_header_rms.cutout.fits'\n",
    "        ,dir_spire_maps+'cosmos-uvista-hipe12_itermap_10_iterations_'+pixsize_suffix+'_PLW.noise.cutout.fits'\n",
    "        ,dir_scuba_maps+'map850_new_header_rms.cutout.fits'\n",
    "        ,dir_aztec_maps+'cosmos_jcmt_kscott20100925_noise.cutout.fits'\n",
    "       ]"
   ]
  },
  {
   "cell_type": "code",
   "execution_count": 7,
   "metadata": {
    "collapsed": false,
    "scrolled": true
   },
   "outputs": [
    {
     "name": "stderr",
     "output_type": "stream",
     "text": [
      "WARNING: AstropyDeprecationWarning: Config parameter 'enabled_record_valued_keyword_cards' in section [io.fits] of the file '/Users/marco/.astropy/config/astropy.cfg' is deprecated. Use 'enable_record_valued_keyword_cards' in section [io.fits] instead. [astropy.config.configuration]\n",
      "WARNING:astropy:AstropyDeprecationWarning: Config parameter 'enabled_record_valued_keyword_cards' in section [io.fits] of the file '/Users/marco/.astropy/config/astropy.cfg' is deprecated. Use 'enable_record_valued_keyword_cards' in section [io.fits] instead.\n"
     ]
    }
   ],
   "source": [
    "sky_library_gaussians={}\n",
    "#sky_library_psfs={}\n",
    "\n",
    "for t in indstack[0]:\n",
    "    sky_library_gaussians[library_keys[t]] = Skymaps(maps[t],noises[t],efwhm[t],color_correction=color_correction[t])\n",
    "    #sky_library_psfs[library_keys[t]] = Skymaps(maps[t],noises[t],sedstackbeams[t],color_correction=color_correction[t])\n",
    "    sky_library_gaussians[library_keys[t]].add_wavelength(wavelength[t])\n",
    "    sky_library_gaussians[library_keys[t]].add_fwhm(efwhm[t])    \n",
    "    #sky_library_psfs[library_keys[t]].add_wavelength(wavelength[t])\n",
    "    #sky_library_psfs[library_keys[t]].add_fwhm(efwhm[t])"
   ]
  },
  {
   "cell_type": "code",
   "execution_count": 8,
   "metadata": {
    "collapsed": true
   },
   "outputs": [],
   "source": [
    "path_catalog = '/data/maps_cats_models/catalogs/UVISTA/'\n",
    "file_catalog = 'UVISTA_final_v4.1_zCOSMOS_zEAZY_RFcolors_IDs_mass_AGN_SFRs_parentids.csv'"
   ]
  },
  {
   "cell_type": "code",
   "execution_count": 9,
   "metadata": {
    "collapsed": true
   },
   "outputs": [],
   "source": [
    "tbl = pd.read_table(path_catalog+file_catalog,sep=',')"
   ]
  },
  {
   "cell_type": "code",
   "execution_count": 10,
   "metadata": {
    "collapsed": false
   },
   "outputs": [],
   "source": [
    "uVista = Field_catalogs(tbl)"
   ]
  },
  {
   "cell_type": "code",
   "execution_count": null,
   "metadata": {
    "collapsed": false
   },
   "outputs": [],
   "source": [
    "# This function creates a column 'sfg', where sf == 1 and qt == 0\n",
    "uVista.separate_sf_qt()"
   ]
  },
  {
   "cell_type": "raw",
   "metadata": {
    "collapsed": true
   },
   "source": [
    "uVista.get_parent_child_redshift_bins(z_nodes)"
   ]
  },
  {
   "cell_type": "raw",
   "metadata": {
    "collapsed": false
   },
   "source": [
    "# This function requires 'parents' and 'parent_id' columns in table\n",
    "uVista.get_parent_child_bins()"
   ]
  },
  {
   "cell_type": "raw",
   "metadata": {
    "collapsed": false,
    "scrolled": false
   },
   "source": [
    "#Stack by redshift and SED type\n",
    "npop=len(uVista.table.parent.unique())\n",
    "#all_stacked_fluxes_psfs = np.zeros([nwv,nz,npop])\n",
    "#all_luminosity_temp_psfs= np.zeros([nz,npop,2])\n",
    "all_stacked_fluxes_gaussians = np.zeros([nwv,nz,npop])\n",
    "all_luminosity_temp_gaussians= np.zeros([nz,npop,2])\n",
    "\n",
    "for iz in range(nz):\n",
    "    zn = z_nodes[iz:iz+2]\n",
    "    uVista.get_parent_child_redshift_bins(zn)\n",
    "    radec_z_sed = uVista.subset_positions(uVista.id_z_sed)\n",
    "    stacked_fluxes_psfs =  None\n",
    "    n_sources_max = None\n",
    "    \n",
    "    [stacked_fluxes_gaussians,v] = stack_libraries_in_redshift_slices(\n",
    "        sky_library_gaussians,\n",
    "        radec_z_sed,zed=np.mean(zn))\n",
    "    #[stacked_fluxes_psfs,v] = stack_libraries_in_redshift_slices(\n",
    "    #    sky_library_psfs,\n",
    "    #    radec_z_sed,zed=np.mean(zn))\n",
    "    \n",
    "    #PLOT\n",
    "    plt.ylim([-1e-1,3e0])\n",
    "    plt.ylim([1e-2,9e1])\n",
    "    plt.xlim([90,510])\n",
    "    plt.xlim([90,1150])\n",
    "    plt.yscale('log')\n",
    "    plt.ylabel('Flux Density [mJy]',fontsize=14)\n",
    "    plt.xlabel('Wavelength [microns]',fontsize=14)\n",
    "    for k in range(npop):\n",
    "        print popcolor[k],len(radec_z_sed.values()[k][0]),str.format('{0:.2e}', v['L'+str(k)]),str.format('{0:.1f}', v['T'+str(k)]), radec_z_sed.keys()[k]\n",
    "        all_stacked_fluxes_gaussians[:,iz,k]= stacked_fluxes_gaussians[:,k]\n",
    "        all_luminosity_temp_gaussians[iz,k,:] = np.asarray([v['L'+str(k)],v['T'+str(k)]])\n",
    "        plt.plot(np.array(wavelength)[indstack],1e3*stacked_fluxes_gaussians[:,k],color=popcolor[k])\n",
    "        \n",
    "    plt.show()"
   ]
  },
  {
   "cell_type": "code",
   "execution_count": null,
   "metadata": {
    "collapsed": false,
    "scrolled": false
   },
   "outputs": [
    {
     "name": "stdout",
     "output_type": "stream",
     "text": [
      "spire_PSW\n",
      "pacs_red\n",
      "spire_PLW\n",
      "250 cube smoothed\n",
      "160 cube smoothed\n",
      "500 cube smoothed"
     ]
    }
   ],
   "source": [
    "#Stack by Z, M, SF/QT\n",
    "#WARNING, NEED TO ADD Z BINS TO THIS\n",
    "pop = ['sf','qt']\n",
    "npop=2\n",
    "all_stacked_fluxes_gaussians = np.zeros([nwv,nz,nm,npop])\n",
    "all_luminosity_temp_gaussians= np.zeros([nz,nm,npop,2])\n",
    "\n",
    "for iz in range(nz):\n",
    "    zn = z_nodes[iz:iz+2]\n",
    "    uVista.get_sf_qt_mass_redshift_bins(zn,m_nodes)\n",
    "    radec_m_z_p = uVista.subset_positions(uVista.id_z_ms)\n",
    "    stacked_fluxes_gaussians =  None\n",
    "    n_sources_max = None\n",
    "    \n",
    "    [stacked_fluxes_gaussians,v] = stack_libraries_in_redshift_slices(\n",
    "        sky_library_gaussians,\n",
    "        radec_m_z_p,zed=np.mean(zn))\n",
    "    \n",
    "    #PLOT\n",
    "    plt.ylim([-1e-1,3e0])\n",
    "    plt.ylim([1e-2,9e1])\n",
    "    plt.xlim([90,510])\n",
    "    plt.xlim([90,1150])\n",
    "    plt.yscale('log')\n",
    "    plt.ylabel('Flux Density [mJy]',fontsize=14)\n",
    "    plt.xlabel('Wavelength [microns]',fontsize=14)\n",
    "    for j in range(nm): \n",
    "        for k in range(npop):\n",
    "            all_stacked_fluxes_gaussians[:,iz,j,k]= stacked_fluxes_gaussians[:,npop*j+k]\n",
    "            all_luminosity_temp_gaussians[iz,j,k,:] = np.asarray([v['L'+str(npop*j+k)],v['T'+str(npop*j+k)]])\n",
    "            plt.plot(np.array(wavelength)[indstack],1e3*stacked_fluxes_gaussians[:,npop*j+k],color=popcolor[npop*j+k],label=[pop[k],str(m_mid[j])])\n",
    "            plt.legend()\n",
    "        \n",
    "    plt.show()"
   ]
  },
  {
   "cell_type": "code",
   "execution_count": null,
   "metadata": {
    "collapsed": true
   },
   "outputs": [],
   "source": [
    "for j in range(nm):\n",
    "    plt.yscale('log')\n",
    "    plt.title(str(wavelength[iwv]))\n",
    "    plt.plot(z_mid,(all_luminosity_temp_gaussians[:,j,0]),'o')\n",
    "    plt.plot(z_mid,(all_luminosity_temp_gaussians[:,j,0]))\n",
    "plt.show()"
   ]
  },
  {
   "cell_type": "code",
   "execution_count": null,
   "metadata": {
    "collapsed": true
   },
   "outputs": [],
   "source": []
  }
 ],
 "metadata": {
  "kernelspec": {
   "display_name": "Python 2",
   "language": "python",
   "name": "python2"
  },
  "language_info": {
   "codemirror_mode": {
    "name": "ipython",
    "version": 2
   },
   "file_extension": ".py",
   "mimetype": "text/x-python",
   "name": "python",
   "nbconvert_exporter": "python",
   "pygments_lexer": "ipython2",
   "version": "2.7.11"
  }
 },
 "nbformat": 4,
 "nbformat_minor": 0
}
