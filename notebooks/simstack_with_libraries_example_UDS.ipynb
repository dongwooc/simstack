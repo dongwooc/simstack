{
 "cells": [
  {
   "cell_type": "code",
   "execution_count": 1,
   "metadata": {
    "collapsed": false
   },
   "outputs": [
    {
     "name": "stderr",
     "output_type": "stream",
     "text": [
      "WARNING: AstropyDeprecationWarning: Config parameter 'default_cosmology' in section [astropy.cosmology.core] is deprecated. Use science state astropy.cosmology.core.default_cosmology instead. [astropy.utils.state]\n",
      "WARNING:astropy:AstropyDeprecationWarning: Config parameter 'default_cosmology' in section [astropy.cosmology.core] is deprecated. Use science state astropy.cosmology.core.default_cosmology instead.\n"
     ]
    }
   ],
   "source": [
    "import pdb\n",
    "import numpy as np\n",
    "import pandas as pd\n",
    "import os\n",
    "import math\n",
    "import matplotlib.pyplot as plt\n",
    "import pylab as plt\n",
    "from astropy.wcs import WCS\n",
    "from astropy.io import fits\n",
    "import readcol\n",
    "from utils import shift_twod\n",
    "from utils import dist_idl\n",
    "from utils import loggen\n",
    "from utils import gauss_kern\n",
    "from lmfit import Parameters, minimize, fit_report\n",
    "from simstack.simstack import stack_libraries_in_redshift_slices\n",
    "from skymaps import Skymaps\n",
    "from skymaps import Field_catalogs\n",
    "\n",
    "%matplotlib inline  "
   ]
  },
  {
   "cell_type": "code",
   "execution_count": 2,
   "metadata": {
    "collapsed": true
   },
   "outputs": [],
   "source": [
    "popcolor=['blue','red','green','orange','black','grey','chocolate','darkviolet','pink',\n",
    "          'magenta','dodgerblue','lavender','blue','red','green','orange','black','grey',\n",
    "          'chocolate','darkviolet','pink','magenta','dodgerblue','lavender']"
   ]
  },
  {
   "cell_type": "code",
   "execution_count": 3,
   "metadata": {
    "collapsed": false
   },
   "outputs": [],
   "source": [
    "#Define Redshift Bins\n",
    "z_lo = np.array([0.0,0.5,1.0,1.5,2.0,2.5,3.0,3.5])\n",
    "z_hi = np.array([0.5,1.0,1.5,2.0,2.5,3.0,3.5,4.0])\n",
    "z_nodes = np.array([0.5,1.0,1.5,2.0,2.5,3.0,3.5,4.0])\n",
    "z_mid = (z_nodes[:-1] + z_nodes[1:])/2\n",
    "nz = len(z_nodes) - 1"
   ]
  },
  {
   "cell_type": "code",
   "execution_count": 4,
   "metadata": {
    "collapsed": true
   },
   "outputs": [],
   "source": [
    "#Define Stellar Mass Bins\n",
    "m_lo = np.array([8.5, 9.5,10.0,10.5,11.0])\n",
    "m_hi = np.array([9.5,10.0,10.5,11.0,13.0])\n",
    "m_nodes = np.array([8.5, 9.5,10.0,10.5,11.0,13.0])\n",
    "m_mid = (m_nodes[:-1] + m_nodes[1:])/2\n",
    "nm = len(m_nodes) - 1"
   ]
  },
  {
   "cell_type": "code",
   "execution_count": 5,
   "metadata": {
    "collapsed": true
   },
   "outputs": [],
   "source": [
    "#Decide which Maps to include\n",
    "wv0 = np.array([1,1,1,1,1,1,1]) # This includes all maps\n",
    "#wv0 = np.array([0,1,0,1,0,1,1]) # This one only includes the first, third, fifth, and sixth\n",
    "indstack = np.where(wv0 == 1)"
   ]
  },
  {
   "cell_type": "markdown",
   "metadata": {},
   "source": [
    "# Need to Edit next panel for your own use \n",
    "### Look for Maps below in www.astro.caltech.edu/viero/william/"
   ]
  },
  {
   "cell_type": "code",
   "execution_count": 6,
   "metadata": {
    "collapsed": true
   },
   "outputs": [],
   "source": [
    "## Map Directories \n",
    "\n",
    "dir_spitzer_maps = '/Users/marco/Code/Python/Modules/simstack/data/cutouts/'\n",
    "dir_spire_maps = '/Users/marco/Code/Python/Modules/simstack/data/cutouts/'\n",
    "dir_pacs_maps = '/Users/marco/Code/Python/Modules/simstack/data/cutouts/'\n",
    "dir_aztec_maps = '/Users/marco/Code/Python/Modules/simstack/data/'\n",
    "\n",
    "## Dictionary Names\n",
    "library_keys =['mips24'\n",
    "               ,'pacs_green'\n",
    "               ,'pacs_red'\n",
    "               ,'spire_PSW'\n",
    "               ,'spire_PMW'\n",
    "               ,'spire_PLW'\n",
    "               ,'aztec'\n",
    "              ]\n",
    "\n",
    "wavelength=[24.,100,160,250,350,500,1100]\n",
    "nwv = np.sum(wv0) \n",
    "fwhm =[6.32,7.4, 11.3,18.1, 25.2, 36.6,18.]\n",
    "efwhm=[6.32,6.7, 11.2,17.6, 23.9, 35.2,18.] # want to the measured effective FWHM later\n",
    "color_correction=[1.25,23.58,23.82,1.018,0.9914,0.95615,1.0]\n",
    "beam_area = [1.54756e-09,1.,1.,1.,1.,1.,1.] #sr\n",
    "\n",
    "pixsize_suffix = '3.0_arcsec_pixels'\n",
    "\n",
    "maps = [dir_spitzer_maps+'mips_mosaic.cutout.fits' \n",
    "        ,dir_pacs_maps+'UDS_level4_GRN_Unimap_img_wgls.cutout.fits'\n",
    "        ,dir_pacs_maps+'UDS_level4_RED_Unimap_img_wgls.cutout.fits'\n",
    "        ,dir_spire_maps+'uds_v4_itermap_'+pixsize_suffix+'_PSW.signal.cutout.fits'\n",
    "        ,dir_spire_maps+'uds_v4_itermap_'+pixsize_suffix+'_PMW.signal.cutout.fits'\n",
    "        ,dir_spire_maps+'uds_v4_itermap_'+pixsize_suffix+'_PLW.signal.cutout.fits'\n",
    "        ,dir_aztec_maps+'sxdf_aste_kscott20100924_map.fits'\n",
    "       ]\n",
    "noises = [dir_spitzer_maps+'mips_mosaic_unc.cutout.fits' \n",
    "        ,dir_pacs_maps+'UDS_level4_GRN_Unimap_cove_gls.cutout.fits'\n",
    "        ,dir_pacs_maps+'UDS_level4_RED_Unimap_cove_gls.cutout.fits'\n",
    "        ,dir_spire_maps+'uds_v4_itermap_'+pixsize_suffix+'_PSW.noise.cutout.fits'\n",
    "        ,dir_spire_maps+'uds_v4_itermap_'+pixsize_suffix+'_PMW.noise.cutout.fits'\n",
    "        ,dir_spire_maps+'uds_v4_itermap_'+pixsize_suffix+'_PLW.noise.cutout.fits'\n",
    "        ,dir_aztec_maps+'sxdf_aste_kscott20100924_map_noise.fits'\n",
    "       ]"
   ]
  },
  {
   "cell_type": "markdown",
   "metadata": {},
   "source": [
    "# Reading Maps into Objects, and Objects into Dictionaries"
   ]
  },
  {
   "cell_type": "code",
   "execution_count": 7,
   "metadata": {
    "collapsed": false,
    "scrolled": true
   },
   "outputs": [
    {
     "name": "stderr",
     "output_type": "stream",
     "text": [
      "WARNING: AstropyDeprecationWarning: Config parameter 'enabled_record_valued_keyword_cards' in section [io.fits] of the file '/Users/marco/.astropy/config/astropy.cfg' is deprecated. Use 'enable_record_valued_keyword_cards' in section [io.fits] instead. [astropy.config.configuration]\n",
      "WARNING:astropy:AstropyDeprecationWarning: Config parameter 'enabled_record_valued_keyword_cards' in section [io.fits] of the file '/Users/marco/.astropy/config/astropy.cfg' is deprecated. Use 'enable_record_valued_keyword_cards' in section [io.fits] instead.\n",
      "/Users/marco/Code/Python/Modules/Utils/utils.py:189: VisibleDeprecationWarning: using a non-integer number instead of an integer will result in an error in the future\n",
      "  delt = zeros([side,side])\n"
     ]
    }
   ],
   "source": [
    "#Different libraries for Actual and Gaussian Approximated PSFs\n",
    "sky_library_gaussians={}\n",
    "\n",
    "for t in indstack[0]:\n",
    "    sky_library_gaussians[library_keys[t]] = Skymaps(maps[t],noises[t],efwhm[t],color_correction=color_correction[t])\n",
    "    sky_library_gaussians[library_keys[t]].add_wavelength(wavelength[t])\n",
    "    sky_library_gaussians[library_keys[t]].add_fwhm(efwhm[t]) \n",
    "    if beam_area[t] != 1: sky_library_gaussians[library_keys[t]].beam_area_correction(beam_area[t])"
   ]
  },
  {
   "cell_type": "markdown",
   "metadata": {
    "collapsed": true
   },
   "source": [
    "## Catalog Directories and Names\n",
    "### Look for Maps below in www.astro.caltech.edu/viero/william/"
   ]
  },
  {
   "cell_type": "code",
   "execution_count": 8,
   "metadata": {
    "collapsed": true
   },
   "outputs": [],
   "source": [
    "path_catalog = '/Users/marco/Documents/Publications/my_old_publications/k_band_stacking_paper/catalogs/quadri_20120829/'\n",
    "#Catalog must have the following (case sensitive) Columns:\n",
    "# - RA\n",
    "# - DEC\n",
    "# - z_peak\n",
    "# - LMASS\n",
    "# - rf_U_V\n",
    "# - rf_V_J\n",
    "file_catalog = 'uds8_v0.2_allcutsexceptchip_AGN_24um_radio.csv' "
   ]
  },
  {
   "cell_type": "code",
   "execution_count": 16,
   "metadata": {
    "collapsed": false
   },
   "outputs": [],
   "source": [
    "tbl = pd.read_table(path_catalog+file_catalog,sep=',')\n",
    "tbl['LMASS']=tbl['mass']\n",
    "tbl['ID']=tbl['ID_W09']\n",
    "tbl['ra'] "
   ]
  },
  {
   "cell_type": "code",
   "execution_count": 17,
   "metadata": {
    "collapsed": false
   },
   "outputs": [],
   "source": [
    "uVista = Field_catalogs(tbl)"
   ]
  },
  {
   "cell_type": "code",
   "execution_count": 18,
   "metadata": {
    "collapsed": true
   },
   "outputs": [],
   "source": [
    "# This function creates a column 'sfg' based on its UVJ colors, where sf == 1 and qt == 0\n",
    "uVista.separate_sf_qt()"
   ]
  },
  {
   "cell_type": "code",
   "execution_count": 19,
   "metadata": {
    "collapsed": false,
    "scrolled": false
   },
   "outputs": [
    {
     "name": "stderr",
     "output_type": "stream",
     "text": [
      "ERROR: AttributeError: 'DataFrame' object has no attribute 'ra' [pandas.core.generic]\n",
      "ERROR:astropy:AttributeError: 'DataFrame' object has no attribute 'ra'\n"
     ]
    },
    {
     "ename": "AttributeError",
     "evalue": "'DataFrame' object has no attribute 'ra'",
     "output_type": "error",
     "traceback": [
      "\u001b[0;31m---------------------------------------------------------------------------\u001b[0m",
      "\u001b[0;31mAttributeError\u001b[0m                            Traceback (most recent call last)",
      "\u001b[0;32m<ipython-input-19-d63e11778e3b>\u001b[0m in \u001b[0;36m<module>\u001b[0;34m()\u001b[0m\n\u001b[1;32m      8\u001b[0m     \u001b[0mzn\u001b[0m \u001b[0;34m=\u001b[0m \u001b[0mz_nodes\u001b[0m\u001b[0;34m[\u001b[0m\u001b[0miz\u001b[0m\u001b[0;34m:\u001b[0m\u001b[0miz\u001b[0m\u001b[0;34m+\u001b[0m\u001b[0;36m2\u001b[0m\u001b[0;34m]\u001b[0m\u001b[0;34m\u001b[0m\u001b[0m\n\u001b[1;32m      9\u001b[0m     \u001b[0muVista\u001b[0m\u001b[0;34m.\u001b[0m\u001b[0mget_sf_qt_mass_redshift_bins\u001b[0m\u001b[0;34m(\u001b[0m\u001b[0mzn\u001b[0m\u001b[0;34m,\u001b[0m\u001b[0mm_nodes\u001b[0m\u001b[0;34m)\u001b[0m\u001b[0;34m\u001b[0m\u001b[0m\n\u001b[0;32m---> 10\u001b[0;31m     \u001b[0mradec_m_z_p\u001b[0m \u001b[0;34m=\u001b[0m \u001b[0muVista\u001b[0m\u001b[0;34m.\u001b[0m\u001b[0msubset_positions\u001b[0m\u001b[0;34m(\u001b[0m\u001b[0muVista\u001b[0m\u001b[0;34m.\u001b[0m\u001b[0mid_z_ms\u001b[0m\u001b[0;34m)\u001b[0m\u001b[0;34m\u001b[0m\u001b[0m\n\u001b[0m\u001b[1;32m     11\u001b[0m     \u001b[0mstacked_fluxes_psfs\u001b[0m \u001b[0;34m=\u001b[0m  \u001b[0mNone\u001b[0m\u001b[0;34m\u001b[0m\u001b[0m\n\u001b[1;32m     12\u001b[0m     \u001b[0mn_sources_max\u001b[0m \u001b[0;34m=\u001b[0m \u001b[0mNone\u001b[0m\u001b[0;34m\u001b[0m\u001b[0m\n",
      "\u001b[0;32m/Users/marco/Code/Python/Modules/Utils/skymaps.pyc\u001b[0m in \u001b[0;36msubset_positions\u001b[0;34m(self, radec_ids)\u001b[0m\n\u001b[1;32m    137\u001b[0m                 \u001b[0;31m#pdb.set_trace()\u001b[0m\u001b[0;34m\u001b[0m\u001b[0;34m\u001b[0m\u001b[0m\n\u001b[1;32m    138\u001b[0m                 \u001b[0;32mfor\u001b[0m \u001b[0mk\u001b[0m \u001b[0;32min\u001b[0m \u001b[0mradec_ids\u001b[0m\u001b[0;34m.\u001b[0m\u001b[0mkeys\u001b[0m\u001b[0;34m(\u001b[0m\u001b[0;34m)\u001b[0m\u001b[0;34m:\u001b[0m\u001b[0;34m\u001b[0m\u001b[0m\n\u001b[0;32m--> 139\u001b[0;31m                         \u001b[0mra\u001b[0m  \u001b[0;34m=\u001b[0m \u001b[0mself\u001b[0m\u001b[0;34m.\u001b[0m\u001b[0mtable\u001b[0m\u001b[0;34m.\u001b[0m\u001b[0mra\u001b[0m\u001b[0;34m[\u001b[0m\u001b[0mself\u001b[0m\u001b[0;34m.\u001b[0m\u001b[0mtable\u001b[0m\u001b[0;34m.\u001b[0m\u001b[0mID\u001b[0m\u001b[0;34m.\u001b[0m\u001b[0misin\u001b[0m\u001b[0;34m(\u001b[0m\u001b[0mradec_ids\u001b[0m\u001b[0;34m[\u001b[0m\u001b[0mk\u001b[0m\u001b[0;34m]\u001b[0m\u001b[0;34m)\u001b[0m\u001b[0;34m]\u001b[0m\u001b[0;34m.\u001b[0m\u001b[0mvalues\u001b[0m\u001b[0;34m\u001b[0m\u001b[0m\n\u001b[0m\u001b[1;32m    140\u001b[0m                         \u001b[0mdec\u001b[0m \u001b[0;34m=\u001b[0m \u001b[0mself\u001b[0m\u001b[0;34m.\u001b[0m\u001b[0mtable\u001b[0m\u001b[0;34m.\u001b[0m\u001b[0mdec\u001b[0m\u001b[0;34m[\u001b[0m\u001b[0mself\u001b[0m\u001b[0;34m.\u001b[0m\u001b[0mtable\u001b[0m\u001b[0;34m.\u001b[0m\u001b[0mID\u001b[0m\u001b[0;34m.\u001b[0m\u001b[0misin\u001b[0m\u001b[0;34m(\u001b[0m\u001b[0mradec_ids\u001b[0m\u001b[0;34m[\u001b[0m\u001b[0mk\u001b[0m\u001b[0;34m]\u001b[0m\u001b[0;34m)\u001b[0m\u001b[0;34m]\u001b[0m\u001b[0;34m.\u001b[0m\u001b[0mvalues\u001b[0m\u001b[0;34m\u001b[0m\u001b[0m\n\u001b[1;32m    141\u001b[0m                         \u001b[0;31m#self.ra_dec[k] = [ra,dec]\u001b[0m\u001b[0;34m\u001b[0m\u001b[0;34m\u001b[0m\u001b[0m\n",
      "\u001b[0;32m/Users/marco/anaconda/lib/python2.7/site-packages/pandas/core/generic.pyc\u001b[0m in \u001b[0;36m__getattr__\u001b[0;34m(self, name)\u001b[0m\n\u001b[1;32m   2667\u001b[0m             \u001b[0;32mif\u001b[0m \u001b[0mname\u001b[0m \u001b[0;32min\u001b[0m \u001b[0mself\u001b[0m\u001b[0;34m.\u001b[0m\u001b[0m_info_axis\u001b[0m\u001b[0;34m:\u001b[0m\u001b[0;34m\u001b[0m\u001b[0m\n\u001b[1;32m   2668\u001b[0m                 \u001b[0;32mreturn\u001b[0m \u001b[0mself\u001b[0m\u001b[0;34m[\u001b[0m\u001b[0mname\u001b[0m\u001b[0;34m]\u001b[0m\u001b[0;34m\u001b[0m\u001b[0m\n\u001b[0;32m-> 2669\u001b[0;31m             \u001b[0;32mreturn\u001b[0m \u001b[0mobject\u001b[0m\u001b[0;34m.\u001b[0m\u001b[0m__getattribute__\u001b[0m\u001b[0;34m(\u001b[0m\u001b[0mself\u001b[0m\u001b[0;34m,\u001b[0m \u001b[0mname\u001b[0m\u001b[0;34m)\u001b[0m\u001b[0;34m\u001b[0m\u001b[0m\n\u001b[0m\u001b[1;32m   2670\u001b[0m \u001b[0;34m\u001b[0m\u001b[0m\n\u001b[1;32m   2671\u001b[0m     \u001b[0;32mdef\u001b[0m \u001b[0m__setattr__\u001b[0m\u001b[0;34m(\u001b[0m\u001b[0mself\u001b[0m\u001b[0;34m,\u001b[0m \u001b[0mname\u001b[0m\u001b[0;34m,\u001b[0m \u001b[0mvalue\u001b[0m\u001b[0;34m)\u001b[0m\u001b[0;34m:\u001b[0m\u001b[0;34m\u001b[0m\u001b[0m\n",
      "\u001b[0;31mAttributeError\u001b[0m: 'DataFrame' object has no attribute 'ra'"
     ]
    }
   ],
   "source": [
    "#Stack in redshift bins, with Layers divided by Stellar Mass and Star-Forming/Quiescent Galaxies\n",
    "pop = ['sf','qt']\n",
    "npop=2\n",
    "all_stacked_fluxes_psfs = np.zeros([nwv,nz,nm,npop])\n",
    "all_luminosity_temp_psfs= np.zeros([nz,nm,npop,2])\n",
    "\n",
    "for iz in range(nz):\n",
    "    zn = z_nodes[iz:iz+2]\n",
    "    uVista.get_sf_qt_mass_redshift_bins(zn,m_nodes)\n",
    "    radec_m_z_p = uVista.subset_positions(uVista.id_z_ms)\n",
    "    stacked_fluxes_psfs =  None\n",
    "    n_sources_max = None\n",
    "    \n",
    "    stacked_fluxes_psfs = stack_libraries_in_redshift_slices(\n",
    "        sky_library_gaussians,\n",
    "        radec_m_z_p)\n",
    "    \n",
    "    #pdb.set_trace()\n",
    "    args = radec_m_z_p.keys()\n",
    "    for iwv in range(nwv):\n",
    "        stacked_fluxes_wv = stacked_fluxes_psfs[str(wavelength[indstack[0][iwv]])]\n",
    "        for j in range(nm):\n",
    "            for k in range(npop):\n",
    "                arg = 'z_'+str(zn[0])+'-'+str(zn[1])+'__m_'+str(m_nodes[j])+'-'+str(m_nodes[j+1])+'_'+pop[k]\n",
    "                all_stacked_fluxes_psfs[iwv,iz,j,k] = stacked_fluxes_wv[arg.replace('.','p').replace('-','_')].value\n",
    "    \n",
    "    #pdb.set_trace()\n",
    "    #PLOT\n",
    "    plt.figure()\n",
    "    plt.ylim([-1e-1,3e0])\n",
    "    plt.ylim([1e-2,9e1])\n",
    "    plt.xlim([20,510])\n",
    "    plt.xlim([20,1150])\n",
    "    plt.yscale('log')\n",
    "    plt.ylabel('Flux Density [mJy]',fontsize=14)\n",
    "    plt.xlabel('Wavelength [microns]',fontsize=14)\n",
    "    for j in range(nm): \n",
    "        for k in range(npop):\n",
    "            plt.plot(np.array(wavelength)[indstack],1e3*all_stacked_fluxes_psfs[:,iz,j,k],color=popcolor[npop*j+k],label=[pop[k],str(m_mid[j])])\n",
    "            plt.legend()\n",
    "    plt.show()\n",
    "    #pdb.set_trace()"
   ]
  },
  {
   "cell_type": "code",
   "execution_count": null,
   "metadata": {
    "collapsed": false,
    "scrolled": false
   },
   "outputs": [],
   "source": [
    "for iwv in range(len(wavelength)):\n",
    "    plt.figure()\n",
    "    for j in range(nm):\n",
    "        plt.yscale('log')\n",
    "        plt.title(str(wavelength[iwv]))\n",
    "        plt.plot(z_mid,1e3*(all_stacked_fluxes_psfs[iwv,:,j,0]),'o')\n",
    "        plt.plot(z_mid,1e3*(all_stacked_fluxes_psfs[iwv,:,j,0]))\n",
    "    plt.show()"
   ]
  },
  {
   "cell_type": "code",
   "execution_count": null,
   "metadata": {
    "collapsed": true
   },
   "outputs": [],
   "source": []
  }
 ],
 "metadata": {
  "kernelspec": {
   "display_name": "Python 2",
   "language": "python",
   "name": "python2"
  },
  "language_info": {
   "codemirror_mode": {
    "name": "ipython",
    "version": 2
   },
   "file_extension": ".py",
   "mimetype": "text/x-python",
   "name": "python",
   "nbconvert_exporter": "python",
   "pygments_lexer": "ipython2",
   "version": "2.7.11"
  }
 },
 "nbformat": 4,
 "nbformat_minor": 0
}
