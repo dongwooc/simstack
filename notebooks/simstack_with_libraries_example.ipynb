{
 "cells": [
  {
   "cell_type": "code",
   "execution_count": 1,
   "metadata": {
    "collapsed": false
   },
   "outputs": [
    {
     "name": "stderr",
     "output_type": "stream",
     "text": [
      "WARNING: AstropyDeprecationWarning: Config parameter 'default_cosmology' in section [astropy.cosmology.core] is deprecated. Use science state astropy.cosmology.core.default_cosmology instead. [astropy.utils.state]\n",
      "WARNING:astropy:AstropyDeprecationWarning: Config parameter 'default_cosmology' in section [astropy.cosmology.core] is deprecated. Use science state astropy.cosmology.core.default_cosmology instead.\n"
     ]
    }
   ],
   "source": [
    "import pdb\n",
    "import numpy as np\n",
    "import pandas as pd\n",
    "import os\n",
    "import math\n",
    "import matplotlib.pyplot as plt\n",
    "import pylab as plt\n",
    "from astropy.wcs import WCS\n",
    "from astropy.io import fits\n",
    "import readcol\n",
    "from utils import shift_twod\n",
    "from utils import dist_idl\n",
    "from utils import loggen\n",
    "from utils import gauss_kern\n",
    "from lmfit import Parameters, minimize, fit_report\n",
    "from simstack.simstack import stack_libraries_in_redshift_slices\n",
    "from skymaps import Skymaps\n",
    "from skymaps import Field_catalogs\n",
    "\n",
    "%matplotlib inline  "
   ]
  },
  {
   "cell_type": "code",
   "execution_count": 2,
   "metadata": {
    "collapsed": true
   },
   "outputs": [],
   "source": [
    "popcolor=['blue','red','green','orange','black','grey','chocolate','darkviolet','pink',\n",
    "          'magenta','dodgerblue','lavender','blue','red','green','orange','black','grey',\n",
    "          'chocolate','darkviolet','pink','magenta','dodgerblue','lavender']"
   ]
  },
  {
   "cell_type": "code",
   "execution_count": 3,
   "metadata": {
    "collapsed": false
   },
   "outputs": [],
   "source": [
    "#Define Redshift Bins\n",
    "z_lo = np.array([0.0,0.5,1.0,1.5,2.0,2.5,3.0,3.5])\n",
    "z_hi = np.array([0.5,1.0,1.5,2.0,2.5,3.0,3.5,4.0])\n",
    "z_nodes = np.array([0.5,1.0,1.5,2.0,2.5,3.0,3.5,4.0])\n",
    "z_mid = (z_nodes[:-1] + z_nodes[1:])/2\n",
    "nz = len(z_nodes) - 1"
   ]
  },
  {
   "cell_type": "code",
   "execution_count": 4,
   "metadata": {
    "collapsed": true
   },
   "outputs": [],
   "source": [
    "#Define Stellar Mass Bins\n",
    "m_lo = np.array([8.5, 9.5,10.0,10.5,11.0])\n",
    "m_hi = np.array([9.5,10.0,10.5,11.0,13.0])\n",
    "m_nodes = np.array([8.5, 9.5,10.0,10.5,11.0,13.0])\n",
    "m_mid = (m_nodes[:-1] + m_nodes[1:])/2\n",
    "nm = len(m_nodes) - 1"
   ]
  },
  {
   "cell_type": "code",
   "execution_count": 5,
   "metadata": {
    "collapsed": true
   },
   "outputs": [],
   "source": [
    "#Decide which Maps to include\n",
    "wv0 = np.array([1,1,1,1,1,1]) # This includes all maps\n",
    "#wv0 = np.array([1,0,1,0,1,1]) # This one only includes the first, third, fifth, and sixth\n",
    "indstack = np.where(wv0 == 1)"
   ]
  },
  {
   "cell_type": "markdown",
   "metadata": {},
   "source": [
    "# Need to Edit next panel for your own use \n",
    "### Look for Maps below in www.astro.caltech.edu/viero/Jason/cosmos/"
   ]
  },
  {
   "cell_type": "code",
   "execution_count": 6,
   "metadata": {
    "collapsed": true
   },
   "outputs": [],
   "source": [
    "## Map Directories \n",
    "\n",
    "dir_spitzer_maps = '/Users/marco/Code/Python/Modules/simstack/data/cutouts/'\n",
    "dir_spire_maps = '/Users/marco/Code/Python/Modules/simstack/data/cutouts/'\n",
    "dir_pacs_maps = '/Users/marco/Code/Python/Modules/simstack/data/cutouts/'\n",
    "dir_aztec_maps = '/Users/marco/Code/Python/Modules/simstack/data/'\n",
    "\n",
    "## Dictionary Names\n",
    "library_keys =['mips24'\n",
    "               ,'pacs_green'\n",
    "               ,'pacs_red'\n",
    "               ,'spire_PSW'\n",
    "               ,'spire_PMW'\n",
    "               ,'spire_PLW'\n",
    "               ,'aztec'\n",
    "              ]\n",
    "\n",
    "wavelength=[24.,100,160,250,250,350,500,1100]\n",
    "nwv = np.sum(wv0) \n",
    "fwhm =[6.32,7.4, 11.3,18.1, 25.2, 36.6,18.]\n",
    "efwhm=[6.32,6.7, 11.2,17.6, 23.9, 35.2,18.] # want to the measured effective FWHM later\n",
    "color_correction=[1.25,23.58,1.018,1.018,0.9914,0.95615,1.0]\n",
    "beam_area = [1.54756e-09,1.,1.,1.,1.,1.,1.] #sr\n",
    "\n",
    "pixsize_suffix = '4.0_arcsec_pixels'\n",
    "\n",
    "maps = [dir_spitzer_maps+'mips_24_GO3_sci_10.cutout.fits' \n",
    "        ,dir_pacs_maps+'pep_COSMOS_green_Map.DR1.sci.cutout.fits'\n",
    "        ,dir_pacs_maps+'pep_COSMOS_red_Map.DR1.sci.cutout.fits'\n",
    "        ,dir_spire_maps+'cosmos-uvista-hipe12_itermap_10_iterations_'+pixsize_suffix+'_PSW.signal.cutout.fits'\n",
    "        ,dir_spire_maps+'cosmos-uvista-hipe12_itermap_10_iterations_'+pixsize_suffix+'_PMW.signal.cutout.fits'\n",
    "        ,dir_spire_maps+'cosmos-uvista-hipe12_itermap_10_iterations_'+pixsize_suffix+'_PLW.signal.cutout.fits'\n",
    "        ,dir_aztec_maps+'cosmos_jcmt_kscott20100925_map.cutout.fits'\n",
    "       ]\n",
    "noises = [dir_spitzer_maps+'mips_24_GO3_unc_10.cutout.fits' \n",
    "        ,dir_pacs_maps+'pep_COSMOS_green_Map.DR1.err.cutout.fits'\n",
    "        ,dir_pacs_maps+'pep_COSMOS_red_Map.DR1.err.cutout.fits'\n",
    "        ,dir_spire_maps+'cosmos-uvista-hipe12_itermap_10_iterations_'+pixsize_suffix+'_PSW.noise.cutout.fits'\n",
    "        ,dir_spire_maps+'cosmos-uvista-hipe12_itermap_10_iterations_'+pixsize_suffix+'_PMW.noise.cutout.fits'\n",
    "        ,dir_spire_maps+'cosmos-uvista-hipe12_itermap_10_iterations_'+pixsize_suffix+'_PLW.noise.cutout.fits'\n",
    "        ,dir_aztec_maps+'cosmos_jcmt_kscott20100925_noise.cutout.fits'\n",
    "       ]"
   ]
  },
  {
   "cell_type": "markdown",
   "metadata": {},
   "source": [
    "# Reading Maps into Objects, and Objects into Dictionaries"
   ]
  },
  {
   "cell_type": "code",
   "execution_count": 7,
   "metadata": {
    "collapsed": false,
    "scrolled": true
   },
   "outputs": [
    {
     "name": "stderr",
     "output_type": "stream",
     "text": [
      "WARNING: AstropyDeprecationWarning: Config parameter 'enabled_record_valued_keyword_cards' in section [io.fits] of the file '/Users/marco/.astropy/config/astropy.cfg' is deprecated. Use 'enable_record_valued_keyword_cards' in section [io.fits] instead. [astropy.config.configuration]\n",
      "WARNING:astropy:AstropyDeprecationWarning: Config parameter 'enabled_record_valued_keyword_cards' in section [io.fits] of the file '/Users/marco/.astropy/config/astropy.cfg' is deprecated. Use 'enable_record_valued_keyword_cards' in section [io.fits] instead.\n",
      "/Users/marco/Code/Python/Modules/Utils/utils.py:189: VisibleDeprecationWarning: using a non-integer number instead of an integer will result in an error in the future\n",
      "  delt = zeros([side,side])\n"
     ]
    }
   ],
   "source": [
    "#Different libraries for Actual and Gaussian Approximated PSFs\n",
    "sky_library_gaussians={}\n",
    "\n",
    "for t in indstack[0]:\n",
    "    sky_library_gaussians[library_keys[t]] = Skymaps(maps[t],noises[t],efwhm[t],color_correction=color_correction[t])\n",
    "    sky_library_gaussians[library_keys[t]].add_wavelength(wavelength[t])\n",
    "    sky_library_gaussians[library_keys[t]].add_fwhm(efwhm[t]) \n",
    "    if beam_area[t] != 1: sky_library_gaussians[library_keys[t]].beam_area_correction(beam_area[t])"
   ]
  },
  {
   "cell_type": "markdown",
   "metadata": {
    "collapsed": true
   },
   "source": [
    "## Catalog Directories and Names\n",
    "### Look for Maps below in www.astro.caltech.edu/viero/Jason/cosmos/"
   ]
  },
  {
   "cell_type": "code",
   "execution_count": 8,
   "metadata": {
    "collapsed": true
   },
   "outputs": [],
   "source": [
    "path_catalog = '/data/maps_cats_models/catalogs/UVISTA/DR2/'\n",
    "#Catalog must have the following (case sensitive) Columns:\n",
    "# - RA\n",
    "# - DEC\n",
    "# - z_peak\n",
    "# - LMASS\n",
    "# - rf_U_V\n",
    "# - rf_V_J\n",
    "file_catalog = 'UVISTA_DR2_master_v2.1_USE.csv'"
   ]
  },
  {
   "cell_type": "code",
   "execution_count": 9,
   "metadata": {
    "collapsed": true
   },
   "outputs": [],
   "source": [
    "tbl = pd.read_table(path_catalog+file_catalog,sep=',')\n",
    "tbl['LMASS']=tbl['lmass']"
   ]
  },
  {
   "cell_type": "code",
   "execution_count": 10,
   "metadata": {
    "collapsed": false
   },
   "outputs": [],
   "source": [
    "uVista = Field_catalogs(tbl)"
   ]
  },
  {
   "cell_type": "code",
   "execution_count": 11,
   "metadata": {
    "collapsed": true
   },
   "outputs": [],
   "source": [
    "# This function creates a column 'sfg' based on its UVJ colors, where sf == 1 and qt == 0\n",
    "uVista.separate_sf_qt()"
   ]
  },
  {
   "cell_type": "code",
   "execution_count": null,
   "metadata": {
    "collapsed": false,
    "scrolled": false
   },
   "outputs": [
    {
     "name": "stderr",
     "output_type": "stream",
     "text": [
      "/Users/marco/Code/Python/Modules/Utils/utils.py:79: VisibleDeprecationWarning: using a non-integer number instead of an integer will result in an error in the future\n",
      "  outmap = np.zeros([pad_side, pad_side])\n",
      "/Users/marco/Code/Python/Modules/Utils/utils.py:161: VisibleDeprecationWarning: using a non-integer number instead of an integer will result in an error in the future\n",
      "  a = np.zeros([float(n1),float(m1)])\n",
      "/Users/marco/Code/Python/Modules/Utils/utils.py:167: VisibleDeprecationWarning: using a non-integer number instead of an integer will result in an error in the future\n",
      "  a[:,i] = y\n",
      "/Users/marco/Code/Python/Modules/Utils/utils.py:169: VisibleDeprecationWarning: using a non-integer number instead of an integer will result in an error in the future\n",
      "  a[:,m1-i]=y\n",
      "/Users/marco/Code/Python/Modules/Utils/utils.py:83: VisibleDeprecationWarning: using a non-integer number instead of an integer will result in an error in the future\n",
      "  circ = np.zeros([pad_side, pad_side])\n"
     ]
    },
    {
     "name": "stdout",
     "output_type": "stream",
     "text": [
      "stacking spire_PSW\n",
      "stacking pacs_green"
     ]
    }
   ],
   "source": [
    "#Stack in redshift bins, with Layers divided by Stellar Mass and Star-Forming/Quiescent Galaxies\n",
    "pop = ['sf','qt']\n",
    "npop=2\n",
    "all_stacked_fluxes_psfs = np.zeros([nwv,nz,nm,npop])\n",
    "all_luminosity_temp_psfs= np.zeros([nz,nm,npop,2])\n",
    "\n",
    "for iz in range(nz):\n",
    "    zn = z_nodes[iz:iz+2]\n",
    "    uVista.get_sf_qt_mass_redshift_bins(zn,m_nodes)\n",
    "    radec_m_z_p = uVista.subset_positions(uVista.id_z_ms)\n",
    "    stacked_fluxes_psfs =  None\n",
    "    n_sources_max = None\n",
    "    \n",
    "    stacked_fluxes_psfs = stack_libraries_in_redshift_slices(\n",
    "        sky_library_gaussians,\n",
    "        radec_m_z_p)\n",
    "    \n",
    "    #pdb.set_trace()\n",
    "    args = radec_m_z_p.keys()\n",
    "    for iwv in range(nwv):\n",
    "        stacked_fluxes_wv = stacked_fluxes_psfs[str(wavelength[indstack[0][iwv]])]\n",
    "        for j in range(nm):\n",
    "            for k in range(npop):\n",
    "                arg = 'z_'+str(zn[0])+'-'+str(zn[1])+'__m_'+str(m_nodes[j])+'-'+str(m_nodes[j+1])+'_'+pop[k]\n",
    "                all_stacked_fluxes_psfs[iwv,iz,j,k] = stacked_fluxes_wv[arg.replace('.','p').replace('-','_')].value\n",
    "    \n",
    "    #pdb.set_trace()\n",
    "    #PLOT\n",
    "    plt.figure()\n",
    "    plt.ylim([-1e-1,3e0])\n",
    "    plt.ylim([1e-2,9e1])\n",
    "    plt.xlim([90,510])\n",
    "    plt.xlim([90,1150])\n",
    "    plt.yscale('log')\n",
    "    plt.ylabel('Flux Density [mJy]',fontsize=14)\n",
    "    plt.xlabel('Wavelength [microns]',fontsize=14)\n",
    "    for j in range(nm): \n",
    "        for k in range(npop):\n",
    "            plt.plot(np.array(wavelength)[indstack],1e3*all_stacked_fluxes_psfs[:,iz,j,k],color=popcolor[npop*j+k],label=[pop[k],str(m_mid[j])])\n",
    "            plt.legend()\n",
    "    plt.show()\n",
    "    #pdb.set_trace()"
   ]
  },
  {
   "cell_type": "code",
   "execution_count": null,
   "metadata": {
    "collapsed": false,
    "scrolled": false
   },
   "outputs": [],
   "source": [
    "for iwv in range(len(wavelength)):\n",
    "    plt.figure()\n",
    "    for j in range(nm):\n",
    "        plt.yscale('log')\n",
    "        plt.title(str(wavelength[iwv]))\n",
    "        plt.plot(z_mid,1e3*(all_stacked_fluxes_psfs[iwv,:,j,0]),'o')\n",
    "        plt.plot(z_mid,1e3*(all_stacked_fluxes_psfs[iwv,:,j,0]))\n",
    "    plt.show()"
   ]
  }
 ],
 "metadata": {
  "kernelspec": {
   "display_name": "Python 2",
   "language": "python",
   "name": "python2"
  },
  "language_info": {
   "codemirror_mode": {
    "name": "ipython",
    "version": 2
   },
   "file_extension": ".py",
   "mimetype": "text/x-python",
   "name": "python",
   "nbconvert_exporter": "python",
   "pygments_lexer": "ipython2",
   "version": "2.7.11"
  }
 },
 "nbformat": 4,
 "nbformat_minor": 0
}
