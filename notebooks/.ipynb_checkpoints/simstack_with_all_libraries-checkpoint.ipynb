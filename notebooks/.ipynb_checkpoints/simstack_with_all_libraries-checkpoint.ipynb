{
 "cells": [
  {
   "cell_type": "code",
   "execution_count": 1,
   "metadata": {
    "collapsed": false
   },
   "outputs": [
    {
     "name": "stderr",
     "output_type": "stream",
     "text": [
      "WARNING: AstropyDeprecationWarning: Config parameter 'default_cosmology' in section [astropy.cosmology.core] is deprecated. Use science state astropy.cosmology.core.default_cosmology instead. [astropy.utils.state]\n",
      "WARNING:astropy:AstropyDeprecationWarning: Config parameter 'default_cosmology' in section [astropy.cosmology.core] is deprecated. Use science state astropy.cosmology.core.default_cosmology instead.\n"
     ]
    }
   ],
   "source": [
    "import pdb\n",
    "import numpy as np\n",
    "import pandas as pd\n",
    "import os\n",
    "import math\n",
    "import matplotlib.pyplot as plt\n",
    "import pylab as plt\n",
    "from astropy.wcs import WCS\n",
    "from astropy.io import fits\n",
    "import readcol\n",
    "from utils import shift_twod\n",
    "from utils import dist_idl\n",
    "from utils import loggen\n",
    "from utils import gauss_kern\n",
    "from lmfit import Parameters, minimize, fit_report\n",
    "from simstack.simstack import stack_libraries_in_redshift_slices\n",
    "from skymaps import Skymaps\n",
    "from skymaps import Field_catalogs\n",
    "\n",
    "%matplotlib inline  "
   ]
  },
  {
   "cell_type": "code",
   "execution_count": 2,
   "metadata": {
    "collapsed": true
   },
   "outputs": [],
   "source": [
    "popcolor=['blue','red','green','orange','black','grey','chocolate','darkviolet','pink','magenta','dodgerblue','lavender','blue','red','green','orange','black','grey','chocolate','darkviolet','pink','magenta','dodgerblue','lavender']"
   ]
  },
  {
   "cell_type": "code",
   "execution_count": 3,
   "metadata": {
    "collapsed": false
   },
   "outputs": [],
   "source": [
    "z_lo = np.array([0.0,0.5,1.0,1.5,2.0,2.5,3.0,3.5])\n",
    "z_hi = np.array([0.5,1.0,1.5,2.0,2.5,3.0,3.5,4.0])\n",
    "z_nodes = np.array([0.5,1.0,1.5,2.0,2.5,3.0,3.5,4.0])\n",
    "z_mid = (z_nodes[:-1] + z_nodes[1:])/2\n",
    "nz = len(z_nodes) - 1\n",
    "\n",
    "m_lo = np.array([8.5, 9.5,10.0,10.5,11.0])\n",
    "m_hi = np.array([9.5,10.0,10.5,11.0,13.0])\n",
    "m_nodes = np.array([8.5, 9.5,10.0,10.5,11.0,13.0])\n",
    "m_mid = (m_nodes[:-1] + m_nodes[1:])/2\n",
    "nm = len(m_nodes) - 1"
   ]
  },
  {
   "cell_type": "code",
   "execution_count": 4,
   "metadata": {
    "collapsed": true
   },
   "outputs": [],
   "source": [
    "wv0 = np.array([1,1,1,1,1,1])\n",
    "#wv0 = np.array([1,0,1,0,1,1])\n",
    "indstack = np.where(wv0 == 1)\n",
    "mapname=['_green'\n",
    "         ,'_red'\n",
    "         ,'_PSW'\n",
    "         ,'_PMW'\n",
    "         ,'_PLW'\n",
    "         ,'_aztec'\n",
    "        ]\n",
    "library_keys =['pacs_green'\n",
    "               ,'pacs_red'\n",
    "               ,'spire_PSW'\n",
    "               ,'spire_PMW'\n",
    "               ,'spire_PLW'\n",
    "               ,'aztec'\n",
    "              ]\n",
    "wavelength=[100,160,250,350,500,1100]\n",
    "nwv = np.sum(wv0)#len(mapname)\n",
    "fwhm =[7.4, 11.3,18.1, 25.2, 36.6,18.]\n",
    "efwhm=[6.7, 11.2,17.6, 23.9, 35.2,18.] # want to the measured effective FWHM later\n",
    "color_correction=[23.58,23.82,1.018,0.9914,0.95615,1.0]\n",
    "\n",
    "dir_spire_maps = '/data/maps_cats_models/maps/herschel/hermes/cosmos/'\n",
    "dir_pacs_maps = '/data/maps_cats_models/maps/herschel/pacs/pep_cosmos_DR1/maps/'\n",
    "dir_aztec_maps = '/data/maps_cats_models/maps/aztec/cosmos/forPeter/'\n",
    "maps = [dir_spire_maps+'cosmos-cropped-uvista_5.0_arcsec_pixels_green_flux.fits' \n",
    "        #dir_pacs_maps+'pep_COSMOS_green_Map.DR1.fits'\n",
    "        ,dir_spire_maps+'cosmos-cropped-uvista_5.0_arcsec_pixels_red_flux.fits' \n",
    "        #,dir_pacs_maps+'pep_COSMOS_red_Map.DR1.fits'\n",
    "        ,dir_spire_maps+'cosmos-cropped-uvista-hipe12_itermap_10_iterations_5.0_arcsec_pixels_PSW_flux.fits'\n",
    "        ,dir_spire_maps+'cosmos-cropped-uvista-hipe12_itermap_10_iterations_5.0_arcsec_pixels_PMW_flux.fits'\n",
    "        ,dir_spire_maps+'cosmos-cropped-uvista-hipe12_itermap_10_iterations_5.0_arcsec_pixels_PLW_flux.fits'\n",
    "        #,dir_aztec_maps+'cosmos_jcmt_kscott20100925_map.fits'\n",
    "        ,dir_spire_maps+'cosmos-cropped-uvista_5.0_arcsec_pixels_aztec_flux.fits'\n",
    "       ]\n",
    "noises = [dir_spire_maps+'cosmos-cropped-uvista_5.0_arcsec_pixels_green_noise.fits' \n",
    "          #dir_pacs_maps+'pep_COSMOS_green_Map.DR1.err.fits'\n",
    "          ,dir_spire_maps+'cosmos-cropped-uvista_5.0_arcsec_pixels_red_noise.fits' \n",
    "          #,dir_pacs_maps+'pep_COSMOS_red_Map.DR1.err.fits' \n",
    "          ,dir_spire_maps+'cosmos-cropped-uvista-hipe12_itermap_10_iterations_5.0_arcsec_pixels_PSW_noise.fits'\n",
    "          ,dir_spire_maps+'cosmos-cropped-uvista-hipe12_itermap_10_iterations_5.0_arcsec_pixels_PMW_noise.fits'\n",
    "          ,dir_spire_maps+'cosmos-cropped-uvista-hipe12_itermap_10_iterations_5.0_arcsec_pixels_PLW_noise.fits'\n",
    "          #,dir_aztec_maps+'cosmos_jcmt_kscott20100925_weight.fits'\n",
    "          ,dir_spire_maps+'cosmos-cropped-uvista_5.0_arcsec_pixels_aztec_noise.fits'\n",
    "         ]#weight??\n",
    "beams = ['/data/maps_cats_models/maps/herschel/pacs/pep_cosmos_DR1/PSF_observed_used/pep_COSMOS_green_Psf.DR1.fits'\n",
    "         ,'/data/maps_cats_models/maps/herschel/pacs/pep_cosmos_DR1/PSF_observed_used/pep_COSMOS_red_Psf.DR1.fits'\n",
    "         ,'/data/maps_cats_models/maps/beams/SPIRE/model/psw-model-beam_5_arcsec_pixels.fits'\n",
    "         ,'/data/maps_cats_models/maps/beams/SPIRE/model/pmw-model-beam_5_arcsec_pixels.fits'\n",
    "         ,'/data/maps_cats_models/maps/beams/SPIRE/model/plw-model-beam_5_arcsec_pixels.fits'\n",
    "         ,'/data/maps_cats_models/maps/beams/aztec/aztec-beam_5_arcsec_pixels.fits'\n",
    "        ]\n",
    "sedstackbeams = [beams[0],beams[1],beams[2],beams[3],beams[4],beams[5]]"
   ]
  },
  {
   "cell_type": "code",
   "execution_count": 5,
   "metadata": {
    "collapsed": false,
    "scrolled": true
   },
   "outputs": [
    {
     "name": "stderr",
     "output_type": "stream",
     "text": [
      "WARNING: AstropyDeprecationWarning: Config parameter 'enabled_record_valued_keyword_cards' in section [io.fits] of the file '/Users/marco/.astropy/config/astropy.cfg' is deprecated. Use 'enable_record_valued_keyword_cards' in section [io.fits] instead. [astropy.config.configuration]\n",
      "WARNING:astropy:AstropyDeprecationWarning: Config parameter 'enabled_record_valued_keyword_cards' in section [io.fits] of the file '/Users/marco/.astropy/config/astropy.cfg' is deprecated. Use 'enable_record_valued_keyword_cards' in section [io.fits] instead.\n"
     ]
    }
   ],
   "source": [
    "sky_library_gaussians={}\n",
    "sky_library_psfs={}\n",
    "\n",
    "for t in indstack[0]:\n",
    "    #sky_library[library_keys[t]] = Skymaps(maps[t],noises[t],beams[t],color_correction=color_correction[t])\n",
    "    sky_library_gaussians[library_keys[t]] = Skymaps(maps[t],noises[t],efwhm[t],color_correction=color_correction[t])\n",
    "    sky_library_psfs[library_keys[t]] = Skymaps(maps[t],noises[t],sedstackbeams[t],color_correction=color_correction[t])\n",
    "    sky_library_gaussians[library_keys[t]].add_wavelength(wavelength[t])\n",
    "    sky_library_gaussians[library_keys[t]].add_fwhm(efwhm[t])    \n",
    "    sky_library_psfs[library_keys[t]].add_wavelength(wavelength[t])\n",
    "    sky_library_psfs[library_keys[t]].add_fwhm(efwhm[t])"
   ]
  },
  {
   "cell_type": "code",
   "execution_count": 6,
   "metadata": {
    "collapsed": true
   },
   "outputs": [],
   "source": [
    "path_catalog = '/data/maps_cats_models/catalogs/UVISTA/'\n",
    "file_catalog = 'UVISTA_final_v4.1_zCOSMOS_zEAZY_RFcolors_IDs_mass_AGN_SFRs_parentids.csv'"
   ]
  },
  {
   "cell_type": "code",
   "execution_count": 7,
   "metadata": {
    "collapsed": true
   },
   "outputs": [],
   "source": [
    "tbl = pd.read_table(path_catalog+file_catalog,sep=',')"
   ]
  },
  {
   "cell_type": "code",
   "execution_count": 8,
   "metadata": {
    "collapsed": false
   },
   "outputs": [],
   "source": [
    "uVista = Field_catalogs(tbl)"
   ]
  },
  {
   "cell_type": "code",
   "execution_count": 9,
   "metadata": {
    "collapsed": true
   },
   "outputs": [],
   "source": [
    "# This function creates a column 'sfg', where sf == 1 and qt == 0\n",
    "uVista.separate_sf_qt()"
   ]
  },
  {
   "cell_type": "code",
   "execution_count": 10,
   "metadata": {
    "collapsed": false
   },
   "outputs": [],
   "source": [
    "# This will seperate into sf/qt, redshift, and mass bins according to the z & m inputs\n",
    "# Note, N z_nodes returns N-1 bins, etc.\n",
    "uVista.get_sf_qt_mass_redshift_bins(z_nodes,m_nodes)"
   ]
  },
  {
   "cell_type": "code",
   "execution_count": 11,
   "metadata": {
    "collapsed": true
   },
   "outputs": [],
   "source": [
    "uVista.get_parent_child_redshift_bins(z_nodes)"
   ]
  },
  {
   "cell_type": "code",
   "execution_count": 12,
   "metadata": {
    "collapsed": false
   },
   "outputs": [],
   "source": [
    "# This function requires 'parents' and 'parent_id' columns in table\n",
    "uVista.get_parent_child_bins()"
   ]
  },
  {
   "cell_type": "raw",
   "metadata": {
    "collapsed": false,
    "scrolled": false
   },
   "source": [
    "#Stack by redshift and SED type\n",
    "npop=len(uVista.table.parent.unique())\n",
    "all_stacked_fluxes_psfs = np.zeros([nwv,nz,npop])\n",
    "all_luminosity_temp_psfs= np.zeros([nz,npop,2])\n",
    "all_stacked_fluxes_gaussians = np.zeros([nwv,nz,npop])\n",
    "all_luminosity_temp_gaussians= np.zeros([nz,npop,2])\n",
    "\n",
    "for iz in range(nz):\n",
    "    zn = z_nodes[iz:iz+2]\n",
    "    uVista.get_parent_child_redshift_bins(zn)\n",
    "    radec_z_sed = uVista.subset_positions(uVista.id_z_sed)\n",
    "    stacked_fluxes_psfs =  None\n",
    "    n_sources_max = None\n",
    "    \n",
    "    stacked_fluxes_gaussians = stack_libraries_in_redshift_slices(\n",
    "        sky_library_gaussians,\n",
    "        radec_z_sed)\n",
    "    #stacked_fluxes_psfs = stack_libraries_in_redshift_slices(\n",
    "    #    sky_library_psfs,\n",
    "    #    radec_z_sed)\n",
    "    \n",
    "    #PLOT\n",
    "    plt.ylim([-1e-1,3e0])\n",
    "    plt.ylim([1e-2,9e1])\n",
    "    plt.xlim([90,510])\n",
    "    plt.xlim([90,1150])\n",
    "    plt.yscale('log')\n",
    "    plt.ylabel('Flux Density [mJy]',fontsize=14)\n",
    "    plt.xlabel('Wavelength [microns]',fontsize=14)\n",
    "    for k in range(npop):\n",
    "        #print popcolor[k],len(radec_z_sed.values()[k][0]),str.format('{0:.2e}', v['L'+str(k)]),str.format('{0:.1f}', v['T'+str(k)]), radec_z_sed.keys()[k]\n",
    "        all_stacked_fluxes_gaussians[:,iz,k]= stacked_fluxes_gaussians[:,k]\n",
    "        #all_luminosity_temp_gaussians[iz,k,:] = np.asarray([v['L'+str(k)],v['T'+str(k)]])\n",
    "        plt.plot(np.array(wavelength)[indstack],1e3*stacked_fluxes_gaussians[:,k],color=popcolor[k])\n",
    "        \n",
    "    plt.show()"
   ]
  },
  {
   "cell_type": "code",
   "execution_count": null,
   "metadata": {
    "collapsed": false
   },
   "outputs": [
    {
     "data": {
      "text/plain": [
       "['z_1.5-2.0__m_8.5-9.5_qt',\n",
       " 'z_1.5-2.0__m_10.5-11.0_qt',\n",
       " 'z_1.5-2.0__m_11.0-13.0_sf',\n",
       " 'z_1.5-2.0__m_9.5-10.0_qt',\n",
       " 'z_1.5-2.0__m_10.0-10.5_sf',\n",
       " 'z_1.5-2.0__m_10.5-11.0_sf',\n",
       " 'z_1.5-2.0__m_11.0-13.0_qt',\n",
       " 'z_1.5-2.0__m_8.5-9.5_sf',\n",
       " 'z_1.5-2.0__m_10.0-10.5_qt',\n",
       " 'z_1.5-2.0__m_9.5-10.0_sf']"
      ]
     },
     "execution_count": 13,
     "metadata": {},
     "output_type": "execute_result"
    }
   ],
   "source": [
    "iz=2\n",
    "zn = z_nodes[iz:iz+2]\n",
    "uVista.get_sf_qt_mass_redshift_bins(zn,m_nodes)\n",
    "radec_m_z_p = uVista.subset_positions(uVista.id_z_ms)\n",
    "radec_m_z_p.keys()"
   ]
  },
  {
   "cell_type": "code",
   "execution_count": null,
   "metadata": {
    "collapsed": false,
    "scrolled": false
   },
   "outputs": [
    {
     "name": "stdout",
     "output_type": "stream",
     "text": [
      "stacking spire_PSW\n",
      "stacking aztec\n",
      "stacking pacs_red\n",
      "stacking spire_PMW\n",
      "stacking spire_PLW"
     ]
    }
   ],
   "source": [
    "#Stack by Z, M, SF/QT\n",
    "pop = ['sf','qt']\n",
    "npop=2\n",
    "all_stacked_fluxes_psfs = np.zeros([nwv,nz,nm,npop])\n",
    "all_luminosity_temp_psfs= np.zeros([nz,nm,npop,2])\n",
    "\n",
    "for iz in range(nz):\n",
    "    zn = z_nodes[iz:iz+2]\n",
    "    uVista.get_sf_qt_mass_redshift_bins(zn,m_nodes)\n",
    "    radec_m_z_p = uVista.subset_positions(uVista.id_z_ms)\n",
    "    stacked_fluxes_psfs =  None\n",
    "    n_sources_max = None\n",
    "    \n",
    "    stacked_fluxes_psfs = stack_libraries_in_redshift_slices(\n",
    "        sky_library_gaussians,\n",
    "        radec_m_z_p)\n",
    "    \n",
    "    args = radec_m_z_p.keys()\n",
    "    args=args.replace('.','p')\n",
    "    args=args.replace('-','_')\n",
    "    \n",
    "    pdb.set_trace()\n",
    "    #PLOT\n",
    "    plt.ylim([-1e-1,3e0])\n",
    "    plt.ylim([1e-2,9e1])\n",
    "    plt.xlim([90,510])\n",
    "    plt.xlim([90,1150])\n",
    "    plt.yscale('log')\n",
    "    plt.ylabel('Flux Density [mJy]',fontsize=14)\n",
    "    plt.xlabel('Wavelength [microns]',fontsize=14)\n",
    "    for j in range(nm): \n",
    "        for k in range(npop):\n",
    "            all_stacked_fluxes_psfs[:,iz,j,k]= stacked_fluxes_psfs[:,npop*j+k]\n",
    "            #all_luminosity_temp_psfs[iz,j,k,:] = np.asarray([v['L'+str(npop*j+k)],v['T'+str(npop*j+k)]])\n",
    "            plt.plot(np.array(wavelength)[indstack],1e3*stacked_fluxes_psfs[:,npop*j+k],color=popcolor[npop*j+k],label=[pop[k],str(m_mid[j])])\n",
    "            plt.legend()\n",
    "        \n",
    "    plt.show()"
   ]
  },
  {
   "cell_type": "code",
   "execution_count": null,
   "metadata": {
    "collapsed": false,
    "scrolled": true
   },
   "outputs": [],
   "source": [
    "for iwv in range(len(wavelength)):\n",
    "    for jm in range(nm):\n",
    "        #print 1e3*all_stacked_fluxes_psfs[iwv,:,j,0]\n",
    "        plt.yscale('log')\n",
    "        plt.plot(z_mid,1e3*(all_stacked_fluxes_psfs[iwv,:,j,0]),'o')\n",
    "        plt.plot(z_mid,1e3*(all_stacked_fluxes_psfs[iwv,:,j,0]))\n",
    "plt.show()"
   ]
  },
  {
   "cell_type": "markdown",
   "metadata": {},
   "source": [
    "# Testing Below this line"
   ]
  },
  {
   "cell_type": "code",
   "execution_count": null,
   "metadata": {
    "collapsed": false
   },
   "outputs": [],
   "source": [
    "uVista.table.ra[uVista.table.parent == 6].values"
   ]
  },
  {
   "cell_type": "code",
   "execution_count": null,
   "metadata": {
    "collapsed": false
   },
   "outputs": [],
   "source": [
    "print uVista.table.parent.unique()\n",
    "uVista.table"
   ]
  },
  {
   "cell_type": "raw",
   "metadata": {},
   "source": [
    "for i in range(len(z_lo[:-1])):\n",
    "    print 'z_'+str(z_lo[i])+'-'+str(z_lo[i+1])\n",
    "    ind_mz_sf =( (uVista.table.z_peak >= z_lo[i]) & (uVista.table.z_peak < z_lo[i+1]) )"
   ]
  },
  {
   "cell_type": "code",
   "execution_count": null,
   "metadata": {
    "collapsed": false
   },
   "outputs": [],
   "source": [
    "uVista.id_children.keys()"
   ]
  },
  {
   "cell_type": "code",
   "execution_count": null,
   "metadata": {
    "collapsed": false
   },
   "outputs": [],
   "source": [
    "uVista.table.ra[uVista.table.ID.isin(uVista.id_children['sed1'])].values"
   ]
  },
  {
   "cell_type": "code",
   "execution_count": null,
   "metadata": {
    "collapsed": false
   },
   "outputs": [],
   "source": [
    "for k in uVista.id_z_ms.keys():\n",
    "    print np.shape(uVista.table.ra[uVista.table.ID.isin(uVista.id_z_ms[k])].values)\n",
    "    #print uVista.id_z_ms[k]"
   ]
  },
  {
   "cell_type": "code",
   "execution_count": null,
   "metadata": {
    "collapsed": false
   },
   "outputs": [],
   "source": [
    "uVista.id_z_ms['z_0.5-1.0__m_8.5-9.5_qt']"
   ]
  },
  {
   "cell_type": "code",
   "execution_count": null,
   "metadata": {
    "collapsed": false
   },
   "outputs": [],
   "source": [
    "uVista.ra_dec['sed2'][1]"
   ]
  },
  {
   "cell_type": "code",
   "execution_count": null,
   "metadata": {
    "collapsed": false
   },
   "outputs": [],
   "source": [
    "print (radec_seds.keys()[0])\n",
    "radec_seds[radec_seds.keys()[0]][0]"
   ]
  },
  {
   "cell_type": "code",
   "execution_count": null,
   "metadata": {
    "collapsed": true
   },
   "outputs": [],
   "source": []
  }
 ],
 "metadata": {
  "kernelspec": {
   "display_name": "Python 2",
   "language": "python",
   "name": "python2"
  },
  "language_info": {
   "codemirror_mode": {
    "name": "ipython",
    "version": 2
   },
   "file_extension": ".py",
   "mimetype": "text/x-python",
   "name": "python",
   "nbconvert_exporter": "python",
   "pygments_lexer": "ipython2",
   "version": "2.7.11"
  }
 },
 "nbformat": 4,
 "nbformat_minor": 0
}
