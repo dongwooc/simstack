{
 "cells": [
  {
   "cell_type": "code",
   "execution_count": 1,
   "metadata": {
    "collapsed": true
   },
   "outputs": [],
   "source": [
    "import pdb\n",
    "import numpy as np\n",
    "import os\n",
    "from VieroLibrary import readcol\n",
    "from lmfit import Parameters, minimize, fit_report\n",
    "import math\n",
    "import cPickle as pickle\n",
    "import pylab\n",
    "import pylab as plt\n",
    "\n",
    "%matplotlib inline  "
   ]
  },
  {
   "cell_type": "code",
   "execution_count": 2,
   "metadata": {
    "collapsed": true
   },
   "outputs": [],
   "source": [
    "class Catalog:\n",
    "    '''To collect all the SEDs'''\n",
    "    def __init__(self):\n",
    "        seds = np.array([])\n",
    "    def add_sed(sed):\n",
    "        seds.append(sed)\n",
    "    \n",
    "class SED:\n",
    "    def __init__(self,idx,rfwavelength,flux):\n",
    "        self.analogs = []\n",
    "        self.atot = np.sum(self.analogs)\n",
    "    def add_analog(ida):\n",
    "        self.analogs = np.append(self.analogs, ida)"
   ]
  },
  {
   "cell_type": "code",
   "execution_count": 3,
   "metadata": {
    "collapsed": true
   },
   "outputs": [],
   "source": [
    "UVISTA = Catalog()"
   ]
  },
  {
   "cell_type": "code",
   "execution_count": 4,
   "metadata": {
    "collapsed": true
   },
   "outputs": [],
   "source": [
    "def find_nearest(array,value):\n",
    "    idx = (np.abs(array-value)).argmin()\n",
    "    return array[idx]\n",
    "def find_nearest_index(array,value):\n",
    "    idx = (np.abs(array-value)).argmin()\n",
    "    return idx"
   ]
  },
  {
   "cell_type": "code",
   "execution_count": 19,
   "metadata": {
    "collapsed": false
   },
   "outputs": [],
   "source": [
    "def compare_seds(seda,sedsb,u=0.05):\n",
    "    a12 = (np.sum(seda * sedsb,axis=0) / np.sum(sedsb**2,axis=0) )\n",
    "    #b12 = np.sqrt(np.sum(seda - np.multiply(a12,sedsb.T).T,axis=1)**2 / np.sum(seda)**2 ) \n",
    "    b12 = np.sqrt(np.sum(10**(np.log10(seda) - np.log10(np.multiply(a12,sedsb.T).T))**2,axis=1)/np.sum(seda)**2)\n",
    "    #pdb.set_trace()\n",
    "    idx = np.where((b12 > 0) & (b12 < u) )\n",
    "    return [idx[0],a12[idx]]"
   ]
  },
  {
   "cell_type": "code",
   "execution_count": 6,
   "metadata": {
    "collapsed": false
   },
   "outputs": [],
   "source": [
    "def compare_all_seds(seds,u=0.05):\n",
    "    ng = np.shape(seds)[0]\n",
    "    nlam = np.shape(seds)[1]\n",
    "    #pdb.set_trace()\n",
    "    sedtile = np.tile(seds,(ng)).reshape(ng,ng,nlam)\n",
    "    #sedtile = np.tile(np.reshape(seds,(1,ng,nlam)),(ng,1,1))\n",
    "    \n",
    "    a12_num = np.sum(np.multiply(sedtile,seds),axis=2) \n",
    "    a12_denom = np.sum(seds**2,axis=1) \n",
    "    a12 = (a12_num / a12_denom) \n",
    "    a12_tile = np.tile(np.reshape(a12,(ng,ng,1)),(1,1,nlam))\n",
    "\n",
    "    #b12 = np.sqrt(np.sum(10**(np.log10(sedtile) - np.log10(np.multiply(a12,sedtile.T).T))**2,axis=2) / np.sum(seds,axis=1)**2)\n",
    "    #b12 = np.sqrt(np.sum(10**(np.log10(sedtile) - np.log10(np.multiply(a12_tile,sedtile)))**2,axis=2) / np.sum(seds,axis=1)**2)\n",
    "    \n",
    "    b12 = np.zeros([ng,ng])\n",
    "    for j in range(ng):\n",
    "        seda = seds[j,:]\n",
    "        tmp = np.sqrt(np.sum(10**(np.log10(seda) - np.log10(np.multiply(a12[j,:],seds.T).T))**2,axis=1)/np.sum(seda)**2)\n",
    "        b12[j,:] = tmp\n",
    "    #pdb.set_trace()\n",
    "    #idx = np.where((b12 > 0) & (b12 < u) )\n",
    "    idx = (b12 > 0) & (b12 < u)\n",
    "    return idx"
   ]
  },
  {
   "cell_type": "code",
   "execution_count": 7,
   "metadata": {
    "collapsed": false
   },
   "outputs": [],
   "source": [
    "def extract_parent_and_analog_seds(idx):\n",
    "    ind_max = np.argmax(np.sum(idx,axis=1))\n",
    "    ind_analogs = np.where(idx[ind_max] == True)[0]\n",
    "    ind_else    = np.where(idx[ind_max] == False)[0]\n",
    "    #pdb.set_trace()\n",
    "    return [ind_max, ind_analogs, ind_else]"
   ]
  },
  {
   "cell_type": "code",
   "execution_count": 8,
   "metadata": {
    "collapsed": true
   },
   "outputs": [],
   "source": [
    "path_catalog = '/data/maps_cats_models/catalogs/UVISTA/'\n",
    "file_catalog = 'UVISTA_final_v4.1_zCOSMOS_zEAZY_RFcolors_IDs_mass_AGN_SFRs.csv'"
   ]
  },
  {
   "cell_type": "code",
   "execution_count": 9,
   "metadata": {
    "collapsed": false
   },
   "outputs": [],
   "source": [
    "id0,ra0,dec0,mips24_0,z_peak0,u_v0,v_j0,reddening_AGN0,a_hat_AGN0,F_ratio0,l_uv0,l_ir0,sfr_uv,lmass0 = readcol.readcol(path_catalog+file_catalog,fsep=',',twod=False, skipline=1)"
   ]
  },
  {
   "cell_type": "code",
   "execution_count": 10,
   "metadata": {
    "collapsed": true
   },
   "outputs": [],
   "source": [
    "lamlo = 1200\n",
    "lamhi = 50000\n",
    "nlam = 22\n",
    "rflam = 10**np.linspace(np.log10(lamlo), np.log10(lamhi),nlam)\n",
    "path_compressed_seds = '/data/SEDs/UVISTA/Muzzin13/K-Selected/'\n",
    "file_compressed_seds = 'test_1000_UVISTA_final_v4.1_zCOSMOS_zEAZY_RFcolors_Downsampled_'+str(int(lamlo))+'-'+str(int(lamhi))+'A_'+str(int(nlam))+'bins2.p'\n",
    "all_downsampled_spectra = pickle.load( open( path_compressed_seds+file_compressed_seds, \"rb\" ) )"
   ]
  },
  {
   "cell_type": "code",
   "execution_count": 18,
   "metadata": {
    "collapsed": false
   },
   "outputs": [
    {
     "name": "stdout",
     "output_type": "stream",
     "text": [
      "(22,)\n",
      "(22, 500)\n"
     ]
    },
    {
     "ename": "ValueError",
     "evalue": "operands could not be broadcast together with shapes (22,) (500,) ",
     "output_type": "error",
     "traceback": [
      "\u001b[0;31m---------------------------------------------------------------------------\u001b[0m",
      "\u001b[0;31mValueError\u001b[0m                                Traceback (most recent call last)",
      "\u001b[0;32m<ipython-input-18-17ee95269c1a>\u001b[0m in \u001b[0;36m<module>\u001b[0;34m()\u001b[0m\n\u001b[1;32m      5\u001b[0m \u001b[0;32mprint\u001b[0m \u001b[0mnp\u001b[0m\u001b[0;34m.\u001b[0m\u001b[0mshape\u001b[0m\u001b[0;34m(\u001b[0m\u001b[0mseda\u001b[0m\u001b[0;34m)\u001b[0m\u001b[0;34m\u001b[0m\u001b[0m\n\u001b[1;32m      6\u001b[0m \u001b[0;32mprint\u001b[0m \u001b[0mnp\u001b[0m\u001b[0;34m.\u001b[0m\u001b[0mshape\u001b[0m\u001b[0;34m(\u001b[0m\u001b[0msedsb\u001b[0m\u001b[0;34m)\u001b[0m\u001b[0;34m\u001b[0m\u001b[0m\n\u001b[0;32m----> 7\u001b[0;31m \u001b[0mtst\u001b[0m \u001b[0;34m=\u001b[0m \u001b[0mcompare_seds\u001b[0m\u001b[0;34m(\u001b[0m\u001b[0mseda\u001b[0m\u001b[0;34m,\u001b[0m\u001b[0msedsb\u001b[0m\u001b[0;34m,\u001b[0m\u001b[0mu\u001b[0m\u001b[0;34m=\u001b[0m\u001b[0muin\u001b[0m\u001b[0;34m)\u001b[0m\u001b[0;31m#0.005)\u001b[0m\u001b[0;34m\u001b[0m\u001b[0m\n\u001b[0m\u001b[1;32m      8\u001b[0m \u001b[0;32mprint\u001b[0m \u001b[0mlen\u001b[0m\u001b[0;34m(\u001b[0m\u001b[0mtst\u001b[0m\u001b[0;34m[\u001b[0m\u001b[0;36m1\u001b[0m\u001b[0;34m]\u001b[0m\u001b[0;34m)\u001b[0m\u001b[0;34m\u001b[0m\u001b[0m\n",
      "\u001b[0;32m<ipython-input-17-9b9176df143a>\u001b[0m in \u001b[0;36mcompare_seds\u001b[0;34m(seda, sedsb, u)\u001b[0m\n\u001b[1;32m      1\u001b[0m \u001b[0;32mdef\u001b[0m \u001b[0mcompare_seds\u001b[0m\u001b[0;34m(\u001b[0m\u001b[0mseda\u001b[0m\u001b[0;34m,\u001b[0m\u001b[0msedsb\u001b[0m\u001b[0;34m,\u001b[0m\u001b[0mu\u001b[0m\u001b[0;34m=\u001b[0m\u001b[0;36m0.05\u001b[0m\u001b[0;34m)\u001b[0m\u001b[0;34m:\u001b[0m\u001b[0;34m\u001b[0m\u001b[0m\n\u001b[0;32m----> 2\u001b[0;31m     \u001b[0ma12\u001b[0m \u001b[0;34m=\u001b[0m \u001b[0;34m(\u001b[0m\u001b[0mnp\u001b[0m\u001b[0;34m.\u001b[0m\u001b[0msum\u001b[0m\u001b[0;34m(\u001b[0m\u001b[0mseda\u001b[0m \u001b[0;34m*\u001b[0m \u001b[0msedsb\u001b[0m\u001b[0;34m.\u001b[0m\u001b[0mT\u001b[0m\u001b[0;34m,\u001b[0m\u001b[0maxis\u001b[0m\u001b[0;34m=\u001b[0m\u001b[0;36m0\u001b[0m\u001b[0;34m)\u001b[0m \u001b[0;34m/\u001b[0m \u001b[0mnp\u001b[0m\u001b[0;34m.\u001b[0m\u001b[0msum\u001b[0m\u001b[0;34m(\u001b[0m\u001b[0msedsb\u001b[0m\u001b[0;34m**\u001b[0m\u001b[0;36m2\u001b[0m\u001b[0;34m,\u001b[0m\u001b[0maxis\u001b[0m\u001b[0;34m=\u001b[0m\u001b[0;36m0\u001b[0m\u001b[0;34m)\u001b[0m \u001b[0;34m)\u001b[0m\u001b[0;34m\u001b[0m\u001b[0m\n\u001b[0m\u001b[1;32m      3\u001b[0m     \u001b[0;31m#b12 = np.sqrt(np.sum(seda - np.multiply(a12,sedsb.T).T,axis=1)**2 / np.sum(seda)**2 )\u001b[0m\u001b[0;34m\u001b[0m\u001b[0;34m\u001b[0m\u001b[0m\n\u001b[1;32m      4\u001b[0m     \u001b[0mb12\u001b[0m \u001b[0;34m=\u001b[0m \u001b[0mnp\u001b[0m\u001b[0;34m.\u001b[0m\u001b[0msqrt\u001b[0m\u001b[0;34m(\u001b[0m\u001b[0mnp\u001b[0m\u001b[0;34m.\u001b[0m\u001b[0msum\u001b[0m\u001b[0;34m(\u001b[0m\u001b[0;36m10\u001b[0m\u001b[0;34m**\u001b[0m\u001b[0;34m(\u001b[0m\u001b[0mnp\u001b[0m\u001b[0;34m.\u001b[0m\u001b[0mlog10\u001b[0m\u001b[0;34m(\u001b[0m\u001b[0mseda\u001b[0m\u001b[0;34m)\u001b[0m \u001b[0;34m-\u001b[0m \u001b[0mnp\u001b[0m\u001b[0;34m.\u001b[0m\u001b[0mlog10\u001b[0m\u001b[0;34m(\u001b[0m\u001b[0mnp\u001b[0m\u001b[0;34m.\u001b[0m\u001b[0mmultiply\u001b[0m\u001b[0;34m(\u001b[0m\u001b[0ma12\u001b[0m\u001b[0;34m,\u001b[0m\u001b[0msedsb\u001b[0m\u001b[0;34m.\u001b[0m\u001b[0mT\u001b[0m\u001b[0;34m)\u001b[0m\u001b[0;34m.\u001b[0m\u001b[0mT\u001b[0m\u001b[0;34m)\u001b[0m\u001b[0;34m)\u001b[0m\u001b[0;34m**\u001b[0m\u001b[0;36m2\u001b[0m\u001b[0;34m,\u001b[0m\u001b[0maxis\u001b[0m\u001b[0;34m=\u001b[0m\u001b[0;36m1\u001b[0m\u001b[0;34m)\u001b[0m\u001b[0;34m/\u001b[0m\u001b[0mnp\u001b[0m\u001b[0;34m.\u001b[0m\u001b[0msum\u001b[0m\u001b[0;34m(\u001b[0m\u001b[0mseda\u001b[0m\u001b[0;34m)\u001b[0m\u001b[0;34m**\u001b[0m\u001b[0;36m2\u001b[0m\u001b[0;34m)\u001b[0m\u001b[0;34m\u001b[0m\u001b[0m\n\u001b[1;32m      5\u001b[0m     \u001b[0;31m#pdb.set_trace()\u001b[0m\u001b[0;34m\u001b[0m\u001b[0;34m\u001b[0m\u001b[0m\n",
      "\u001b[0;31mValueError\u001b[0m: operands could not be broadcast together with shapes (22,) (500,) "
     ]
    }
   ],
   "source": [
    "ng=500#3000\n",
    "uin=0.050\n",
    "seda = all_downsampled_spectra[:,2]\n",
    "sedsb = all_downsampled_spectra[:,:ng]\n",
    "print np.shape(seda)\n",
    "print np.shape(sedsb)\n",
    "tst = compare_seds(seda,sedsb,u=uin)#0.005)\n",
    "print len(tst[1])"
   ]
  },
  {
   "cell_type": "code",
   "execution_count": 204,
   "metadata": {
    "collapsed": false
   },
   "outputs": [
    {
     "data": {
      "image/png": "[encoded data removed]",
      "text/plain": [
       "<matplotlib.figure.Figure at 0x11e360e50>"
      ]
     },
     "metadata": {},
     "output_type": "display_data"
    }
   ],
   "source": [
    "parent_sed = seda\n",
    "analog_seds= sedsb[tst[0]]\n",
    "a12_analogs= tst[1]\n",
    "n_parents = len(tst[1]) # 30\n",
    "pylab.figure()\n",
    "plt.loglog(rflam,parent_sed)\n",
    "    \n",
    "for i in range(n_parents):\n",
    "    #plt.loglog(rflam,a12_analogs[i]*analog_seds[i],'+')\n",
    "    plt.loglog(rflam,analog_seds[i],'+')\n",
    "        \n",
    "plt.show()"
   ]
  },
  {
   "cell_type": "code",
   "execution_count": 205,
   "metadata": {
    "collapsed": false
   },
   "outputs": [],
   "source": [
    "#idin = np.random.choice(range(len(id0)),ng,replace=False)\n",
    "#seds2 = all_downsampled_spectra[indin]"
   ]
  },
  {
   "cell_type": "code",
   "execution_count": 206,
   "metadata": {
    "collapsed": true
   },
   "outputs": [],
   "source": [
    "seds2 = sedsb"
   ]
  },
  {
   "cell_type": "code",
   "execution_count": 207,
   "metadata": {
    "collapsed": false
   },
   "outputs": [
    {
     "data": {
      "text/plain": [
       "array([[ True, False,  True, ..., False, False, False],\n",
       "       [False,  True, False, ..., False, False, False],\n",
       "       [ True,  True,  True, ..., False,  True, False],\n",
       "       ..., \n",
       "       [False, False, False, ...,  True,  True,  True],\n",
       "       [False, False, False, ..., False, False, False],\n",
       "       [False, False, False, ...,  True,  True,  True]], dtype=bool)"
      ]
     },
     "execution_count": 207,
     "metadata": {},
     "output_type": "execute_result"
    }
   ],
   "source": [
    "tst2 = compare_all_seds(seds2,u=uin)\n",
    "tst2"
   ]
  },
  {
   "cell_type": "code",
   "execution_count": 208,
   "metadata": {
    "collapsed": false
   },
   "outputs": [
    {
     "name": "stdout",
     "output_type": "stream",
     "text": [
      "273\n",
      "168\n"
     ]
    }
   ],
   "source": [
    "print np.sum(tst2,axis=0).max()\n",
    "print np.sum(tst2,axis=0).argmax()\n",
    "#np.sum(tst2,axis=0)"
   ]
  },
  {
   "cell_type": "code",
   "execution_count": 209,
   "metadata": {
    "collapsed": false
   },
   "outputs": [
    {
     "name": "stdout",
     "output_type": "stream",
     "text": [
      "210\n",
      "496\n"
     ]
    }
   ],
   "source": [
    "tout = extract_parent_and_analog_seds(tst2)\n",
    "print tout[0]\n",
    "print len(tout[1])"
   ]
  },
  {
   "cell_type": "code",
   "execution_count": 160,
   "metadata": {
    "collapsed": false
   },
   "outputs": [
    {
     "ename": "IndexError",
     "evalue": "index 49 is out of bounds for axis 0 with size 49",
     "output_type": "error",
     "traceback": [
      "\u001b[0;31m---------------------------------------------------------------------------\u001b[0m",
      "\u001b[0;31mIndexError\u001b[0m                                Traceback (most recent call last)",
      "\u001b[0;32m<ipython-input-160-de8f0b67b7c0>\u001b[0m in \u001b[0;36m<module>\u001b[0;34m()\u001b[0m\n\u001b[1;32m     11\u001b[0m     \u001b[0;32mfor\u001b[0m \u001b[0mi\u001b[0m \u001b[0;32min\u001b[0m \u001b[0mrange\u001b[0m\u001b[0;34m(\u001b[0m\u001b[0;36m50\u001b[0m\u001b[0;34m)\u001b[0m\u001b[0;34m:\u001b[0m\u001b[0;34m\u001b[0m\u001b[0m\n\u001b[1;32m     12\u001b[0m         \u001b[0;31m#plt.loglog(rflam,seds[ind_analogs[0][i]],'+')\u001b[0m\u001b[0;34m\u001b[0m\u001b[0;34m\u001b[0m\u001b[0m\n\u001b[0;32m---> 13\u001b[0;31m         \u001b[0mplt\u001b[0m\u001b[0;34m.\u001b[0m\u001b[0mloglog\u001b[0m\u001b[0;34m(\u001b[0m\u001b[0mrflam\u001b[0m\u001b[0;34m,\u001b[0m\u001b[0manalog_seds\u001b[0m\u001b[0;34m[\u001b[0m\u001b[0mi\u001b[0m\u001b[0;34m]\u001b[0m\u001b[0;34m,\u001b[0m\u001b[0;34m'+'\u001b[0m\u001b[0;34m)\u001b[0m\u001b[0;34m\u001b[0m\u001b[0m\n\u001b[0m\u001b[1;32m     14\u001b[0m \u001b[0;34m\u001b[0m\u001b[0m\n\u001b[1;32m     15\u001b[0m     \u001b[0mtst2\u001b[0m \u001b[0;34m=\u001b[0m \u001b[0mcompare_all_seds\u001b[0m\u001b[0;34m(\u001b[0m\u001b[0mremaining_seds\u001b[0m\u001b[0;34m,\u001b[0m\u001b[0mu\u001b[0m\u001b[0;34m=\u001b[0m\u001b[0muin\u001b[0m\u001b[0;34m)\u001b[0m\u001b[0;34m\u001b[0m\u001b[0m\n",
      "\u001b[0;31mIndexError\u001b[0m: index 49 is out of bounds for axis 0 with size 49"
     ]
    },
    {
     "data": {
      "image/png": "[encoded data removed]",
      "text/plain": [
       "<matplotlib.figure.Figure at 0x118e7c750>"
      ]
     },
     "metadata": {},
     "output_type": "display_data"
    }
   ],
   "source": [
    "tout = extract_parent_and_analog_seds(tst2)\n",
    "#[ind_max, ind_analogs, ind_else]\n",
    "parent_sed = seds2[tout[0]]\n",
    "analog_seds= seds2[tout[1]]\n",
    "remaining_seds=seds2[tout[2]]\n",
    "n_parents = 30\n",
    "for j in range(n_parents):\n",
    "    pylab.figure()\n",
    "    plt.loglog(rflam,parent_sed)\n",
    "    \n",
    "    for i in range(50):\n",
    "        #plt.loglog(rflam,seds[ind_analogs[0][i]],'+')\n",
    "        plt.loglog(rflam,analog_seds[i],'+')\n",
    "    \n",
    "    tst2 = compare_all_seds(remaining_seds,u=uin)\n",
    "    tout2 = extract_parent_and_analog_seds(tst2)\n",
    "    parent_sed = remaining_seds[tout2[0]]\n",
    "    analog_seds= remaining_seds[tout2[1]]\n",
    "    remaining_seds=remaining_seds[tout2[2]]\n",
    "    \n",
    "    plt.show()"
   ]
  },
  {
   "cell_type": "markdown",
   "metadata": {},
   "source": [
    "# CUT BELOW EVENTUALLY"
   ]
  },
  {
   "cell_type": "raw",
   "metadata": {},
   "source": [
    "def sed_similarity(ids,zeds,lamlo = 1200, lamhi = 50000, nlam = 22, bsim = 0.01, show=0):\n",
    "    path_seds = '/data/maps_cats_models/catalogs/UVISTA/Muzzin13/K-Selected/'\n",
    "    rflam = 10**np.linspace(np.log10(lamlo), np.log10(lamhi),nlam)\n",
    "    ng = len(ids)\n",
    "    n_analogs = np.zeros(ng)\n",
    "    for i in range(ng):\n",
    "        file_sedi = 'UVISTA_final_v4.1_'+str(int(ids[i]))+'.fit'\n",
    "        xi, yi= readcol.readcol(path_seds+file_sedi,twod=False, skipline=1)\n",
    "        xi/=(1+zeds[i])\n",
    "        yinti = np.interp(rflam,xi,yi)\n",
    "        sedi = SED(i,rflam,yinti)\n",
    "        for j in range(i+1,ng):    \n",
    "            file_sedj = 'UVISTA_final_v4.1_'+str(int(ids[j]))+'.fit'\n",
    "            xj, yj= readcol.readcol(path_seds+file_sedj,twod=False, skipline=1)\n",
    "            xj/=(1+zeds[j])\n",
    "            yintj = np.interp(rflam,xj,yj)\n",
    "            sedj = SED(j,rflam,yintj)\n",
    "            \n",
    "            a12 = np.sum(yinti * yintj)/np.sum(yintj**2)\n",
    "            b12 = np.sqrt(np.sum(yinti - a12 * yintj)**2/np.sum(yinti)**2)\n",
    "            #a12 = np.sum(np.log10(yinti) * np.log10(yintj))/np.sum(np.log10(yintj**2))\n",
    "            #b12 = np.sqrt(np.sum(np.log10(yinti) - a12 * np.log10(yintj))**2/np.sum(np.log10(yinti)**2))\n",
    "            #print b12\n",
    "            if b12 < bsim: \n",
    "                n_analogs[i]+=1\n",
    "                #print j\n",
    "                #pdb.set_trace()\n",
    "                #sedi.add_analog(j)\n",
    "            if b12 < bsim and show ==1:\n",
    "                print b12\n",
    "                print a12\n",
    "                print j\n",
    "                print i\n",
    "                pylab.figure()\n",
    "                plt.loglog(rflam,yinti,'+')\n",
    "                plt.loglog(rflam,a12 * yintj,'x')\n",
    "                #plt.loglog(xi,yi)\n",
    "                #plt.loglog(xj,a12 * yj)\n",
    "                plt.show()\n",
    "            #pdb.set_trace()\n",
    "            \n",
    "    return n_analogs"
   ]
  },
  {
   "cell_type": "raw",
   "metadata": {},
   "source": [
    "tst = sed_similarity(ids=id0[idin],zeds=z_peak0[idin],bsim = 0.001, show=1)"
   ]
  },
  {
   "cell_type": "raw",
   "metadata": {},
   "source": [
    "nmatch = len(np.asarray(tst[0]))\n",
    "imatch = np.asarray(tst[0])\n",
    "amatch = np.asarray(tst[1])\n",
    "print nmatch"
   ]
  },
  {
   "cell_type": "raw",
   "metadata": {},
   "source": [
    "pylab.figure()\n",
    "plt.loglog(rflam,seda)\n",
    "#plt.loglog(rflam,10**seda)\n",
    "#plt.loglog(rflam,2.96*sedsb[6],'+')\n",
    "#for i in np.asarray(tst[0])[0]:\n",
    "for i in range(50):\n",
    "#for i in range(nmatch):\n",
    "    #print amatch[i]\n",
    "    #print i\n",
    "    #print np.shape(all_downsampled_spectra[i,:])\n",
    "    #plt.loglog(rflam,np.asarray(tst[1])[i] * all_downsampled_spectra[np.asarray(tst[0])[i],:],'+')\n",
    "    #plt.loglog(rflam,10**(amatch[i]*sedsb[imatch[i]]),'+')\n",
    "    plt.loglog(rflam,(amatch[i]*sedsb[imatch[i]]),'+')\n",
    "    \n",
    "plt.show()"
   ]
  },
  {
   "cell_type": "raw",
   "metadata": {
    "collapsed": false
   },
   "source": [
    "def sed_similarity_fast(all_downsampled_spectra, bsim = 0.005, show=0):\n",
    "    ng = len(all_downsampled_spectra[:,0])\n",
    "    n_analogs = np.zeros(ng)\n",
    "    analogs = np.array([])\n",
    "    #pdb.set_trace()\n",
    "    for i in range(ng):\n",
    "        yinti = all_downsampled_spectra[i,:]\n",
    "        tst = compare_seds(yinti,all_downsampled_spectra,u=bsim)\n",
    "        n_analogs[i] = len(tst[0])\n",
    "        analogs = np.append(analogs,tst[1])\n",
    "        #print float(ng)/\n",
    "        #print len(tst[0])\n",
    "        #pdb.set_trace()\n",
    "    return tst"
   ]
  }
 ],
 "metadata": {
  "kernelspec": {
   "display_name": "Python 2",
   "language": "python",
   "name": "python2"
  },
  "language_info": {
   "codemirror_mode": {
    "name": "ipython",
    "version": 2
   },
   "file_extension": ".py",
   "mimetype": "text/x-python",
   "name": "python",
   "nbconvert_exporter": "python",
   "pygments_lexer": "ipython2",
   "version": "2.7.11"
  }
 },
 "nbformat": 4,
 "nbformat_minor": 0
}
