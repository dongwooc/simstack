{
 "cells": [
  {
   "cell_type": "code",
   "execution_count": 1,
   "metadata": {
    "collapsed": true
   },
   "outputs": [],
   "source": [
    "import pdb\n",
    "import numpy as np\n",
    "import os\n",
    "from VieroLibrary import readcol\n",
    "from lmfit import Parameters, minimize, fit_report\n",
    "import math\n",
    "import pylab\n",
    "import pylab as plt\n",
    "import cPickle as pickle\n",
    "\n",
    "%matplotlib inline  "
   ]
  },
  {
   "cell_type": "code",
   "execution_count": 2,
   "metadata": {
    "collapsed": true
   },
   "outputs": [],
   "source": [
    "def find_nearest(array,value):\n",
    "    idx = (np.abs(array-value)).argmin()\n",
    "    return array[idx]\n",
    "def find_nearest_index(array,value):\n",
    "    idx = (np.abs(array-value)).argmin()\n",
    "    return idx"
   ]
  },
  {
   "cell_type": "code",
   "execution_count": 3,
   "metadata": {
    "collapsed": true
   },
   "outputs": [],
   "source": [
    "path_catalog = '/data/maps_cats_models/catalogs/UVISTA/'\n",
    "file_catalog = 'UVISTA_final_v4.1_zCOSMOS_zEAZY_RFcolors_IDs_mass_AGN_SFRs.csv'"
   ]
  },
  {
   "cell_type": "code",
   "execution_count": 4,
   "metadata": {
    "collapsed": true
   },
   "outputs": [],
   "source": [
    "path_seds = '/data/maps_cats_models/catalogs/UVISTA/Muzzin13/K-Selected/'"
   ]
  },
  {
   "cell_type": "code",
   "execution_count": 5,
   "metadata": {
    "collapsed": true
   },
   "outputs": [],
   "source": [
    "id0,ra0,dec0,mips24_0,z_peak0,u_v0,v_j0,reddening_AGN0,a_hat_AGN0,F_ratio0,l_uv0,l_ir0,sfr_uv,lmass0 = readcol.readcol(path_catalog+file_catalog,fsep=',',twod=False, skipline=1)"
   ]
  },
  {
   "cell_type": "code",
   "execution_count": 36,
   "metadata": {
    "collapsed": false
   },
   "outputs": [],
   "source": [
    "ng = len(id0)\n",
    "lamlo = 1500\n",
    "lamhi = 20000 #35000 #50000\n",
    "nlam = 24 #20 #22\n",
    "rflam = 10**np.linspace(np.log10(lamlo), np.log10(lamhi),nlam)\n",
    "path_out = '/data/SEDs/UVISTA/Muzzin13/K-Selected/'\n",
    "file_out = 'UVISTA_final_v4.1_zCOSMOS_zEAZY_RFcolors_Downsampled_'+str(int(lamlo))+'-'+str(int(lamhi))+'A_'+str(int(nlam))+'bins.p'\n",
    "#file_out2 = 'test_1000_UVISTA_final_v4.1_zCOSMOS_zEAZY_RFcolors_Downsampled_'+str(int(lamlo))+'-'+str(int(lamhi))+'A_'+str(int(nlam))+'bins2.p'"
   ]
  },
  {
   "cell_type": "code",
   "execution_count": 37,
   "metadata": {
    "collapsed": false
   },
   "outputs": [
    {
     "data": {
      "text/plain": [
       "80.1604503"
      ]
     },
     "execution_count": 37,
     "metadata": {},
     "output_type": "execute_result"
    }
   ],
   "source": [
    "8.01604503e+01"
   ]
  },
  {
   "cell_type": "code",
   "execution_count": 38,
   "metadata": {
    "collapsed": false
   },
   "outputs": [
    {
     "name": "stdout",
     "output_type": "stream",
     "text": [
      "(166633, 24)\n"
     ]
    }
   ],
   "source": [
    "all_downsampled_spectra = np.zeros([ng,nlam])\n",
    "#all_downsampled_spectra2 = np.zeros([nlam,ng])\n",
    "print np.shape(all_downsampled_spectra)"
   ]
  },
  {
   "cell_type": "code",
   "execution_count": 39,
   "metadata": {
    "collapsed": false
   },
   "outputs": [],
   "source": [
    "path_seds = '/data/maps_cats_models/catalogs/UVISTA/Muzzin13/K-Selected/'\n",
    "for i in range(ng):\n",
    "    file_sedi = 'UVISTA_final_v4.1_'+str(int(id0[i]))+'.fit'\n",
    "    xi, yi= readcol.readcol(path_seds+file_sedi,twod=False, skipline=1)\n",
    "    xi/=(1+z_peak0[i])\n",
    "    #yab = -2.5*np.log10(yi)+25.0\n",
    "    #yflux = 10**((16.4-yab)/2.5)\n",
    "    yinti = np.interp(rflam,xi,yi) #yab) #yflux)\n",
    "    #print yi[100], yab[100], yflux[100]\n",
    "    #all_downsampled_spectra = np.append(all_downsampled_spectra,yinti,axis=0)\n",
    "    all_downsampled_spectra[i,:] = yinti # np.log10(yinti)\n",
    "    #all_downsampled_spectra2[:,i] = yinti \n",
    "    #print np.shape(all_downsampled_spectra)\n",
    "    #pdb.set_trace()"
   ]
  },
  {
   "cell_type": "code",
   "execution_count": 40,
   "metadata": {
    "collapsed": false
   },
   "outputs": [],
   "source": [
    "pickle.dump( all_downsampled_spectra, open( path_out+file_out, \"wb\" ) )\n",
    "#pickle.dump( all_downsampled_spectra2, open( path_out+file_out2, \"wb\" ) )"
   ]
  },
  {
   "cell_type": "code",
   "execution_count": 20,
   "metadata": {
    "collapsed": true
   },
   "outputs": [],
   "source": [
    "#"
   ]
  },
  {
   "cell_type": "code",
   "execution_count": null,
   "metadata": {
    "collapsed": false
   },
   "outputs": [],
   "source": []
  },
  {
   "cell_type": "code",
   "execution_count": null,
   "metadata": {
    "collapsed": true
   },
   "outputs": [],
   "source": []
  }
 ],
 "metadata": {
  "kernelspec": {
   "display_name": "Python 2",
   "language": "python",
   "name": "python2"
  },
  "language_info": {
   "codemirror_mode": {
    "name": "ipython",
    "version": 2
   },
   "file_extension": ".py",
   "mimetype": "text/x-python",
   "name": "python",
   "nbconvert_exporter": "python",
   "pygments_lexer": "ipython2",
   "version": "2.7.11"
  }
 },
 "nbformat": 4,
 "nbformat_minor": 0
}
